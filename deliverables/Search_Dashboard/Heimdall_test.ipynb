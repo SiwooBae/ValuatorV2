{
 "cells": [
  {
   "cell_type": "code",
   "execution_count": 1,
   "metadata": {
    "collapsed": true
   },
   "outputs": [],
   "source": [
    "import numpy as np\n",
    "import pandas as pd\n",
    "import sys\n",
    "import seaborn as sns\n",
    "import matplotlib.pyplot as plt\n",
    "import datetime\n",
    "from Heimdall import Heimdall"
   ]
  },
  {
   "cell_type": "code",
   "execution_count": null,
   "outputs": [],
   "source": [
    "heimdall = Heimdall(activate_embedder=True)"
   ],
   "metadata": {
    "collapsed": false,
    "pycharm": {
     "is_executing": true
    }
   }
  },
  {
   "cell_type": "code",
   "execution_count": 3,
   "outputs": [
    {
     "name": "stderr",
     "output_type": "stream",
     "text": [
      "C:\\Users\\Siwoo\\miniconda3\\envs\\MLenv\\Lib\\site-packages\\sklearn\\base.py:439: UserWarning: X does not have valid feature names, but StandardScaler was fitted with feature names\n",
      "  warnings.warn(\n",
      "C:\\Users\\Siwoo\\miniconda3\\envs\\MLenv\\Lib\\site-packages\\sklearn\\base.py:439: UserWarning: X does not have valid feature names, but StandardScaler was fitted with feature names\n",
      "  warnings.warn(\n"
     ]
    }
   ],
   "source": [
    "results = heimdall.expression_to_vector(\"<AAPL> + <I want to cure diabetes>\")"
   ],
   "metadata": {
    "collapsed": false
   }
  },
  {
   "cell_type": "code",
   "execution_count": 4,
   "outputs": [
    {
     "data": {
      "text/plain": "[{'score': 0.6578895716495958, 'symbol': 'AAPL', 'company': 'Apple Inc.'},\n {'score': 0.3630153078252218,\n  'symbol': 'PODD',\n  'company': 'Insulet Corporation'},\n {'score': 0.35000429887225454,\n  'symbol': 'NMRD',\n  'company': 'Nemaura Medical Inc.'},\n {'score': 0.34923033713799095,\n  'symbol': 'BRIG.ST',\n  'company': 'Brighter AB (publ)'},\n {'score': 0.3443571348089298,\n  'symbol': 'LLY',\n  'company': 'Eli Lilly and Company'},\n {'score': 0.3347369197974965,\n  'symbol': 'ICON.TA',\n  'company': 'iCon Group Ltd'},\n {'score': 0.33259103277663454,\n  'symbol': 'SRY.AX',\n  'company': 'Story-I Limited'},\n {'score': 0.32226161491633215, 'symbol': 'POXEL.PA', 'company': 'Poxel S.A.'},\n {'score': 0.3172959577501481,\n  'symbol': 'DMYD-B.ST',\n  'company': 'Diamyd Medical AB (publ)'},\n {'score': 0.31554432935726906,\n  'symbol': '001360.KS',\n  'company': 'SAMSUNG PHARM. Co., LTD.'}]"
     },
     "execution_count": 4,
     "metadata": {},
     "output_type": "execute_result"
    }
   ],
   "source": [
    "heimdall.semantic_search(results)"
   ],
   "metadata": {
    "collapsed": false
   }
  },
  {
   "cell_type": "code",
   "execution_count": 9,
   "outputs": [
    {
     "data": {
      "text/plain": "tensor([[3.6865e-04, 5.9536e-04, 5.7524e-03, 3.0055e-03, 9.4964e-03, 1.0622e-04,\n         2.0474e-03, 9.6292e-01, 1.9523e-03, 2.3976e-03, 1.0753e-02, 6.0078e-04]],\n       device='cuda:0', grad_fn=<SoftmaxBackward0>)"
     },
     "execution_count": 9,
     "metadata": {},
     "output_type": "execute_result"
    }
   ],
   "source": [
    "import torch\n",
    "torch.softmax(heimdall.sector_predictor(torch.Tensor(results).to('cuda')),dim=-1)"
   ],
   "metadata": {
    "collapsed": false
   }
  },
  {
   "cell_type": "code",
   "execution_count": 5,
   "outputs": [],
   "source": [],
   "metadata": {
    "collapsed": false
   }
  }
 ],
 "metadata": {
  "kernelspec": {
   "display_name": "Python 3",
   "language": "python",
   "name": "python3"
  },
  "language_info": {
   "codemirror_mode": {
    "name": "ipython",
    "version": 2
   },
   "file_extension": ".py",
   "mimetype": "text/x-python",
   "name": "python",
   "nbconvert_exporter": "python",
   "pygments_lexer": "ipython2",
   "version": "2.7.6"
  }
 },
 "nbformat": 4,
 "nbformat_minor": 0
}
