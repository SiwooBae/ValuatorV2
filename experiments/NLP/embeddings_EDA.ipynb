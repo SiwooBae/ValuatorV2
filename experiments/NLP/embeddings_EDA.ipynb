{
 "cells": [
  {
   "cell_type": "code",
   "execution_count": null,
   "outputs": [],
   "source": [
    "import pandas as pd\n",
    "import numpy as np\n",
    "import matplotlib.pyplot as plt\n",
    "import umap\n",
    "import plotly.express as px\n",
    "import sqlite3"
   ],
   "metadata": {
    "collapsed": false
   }
  },
  {
   "cell_type": "code",
   "execution_count": null,
   "metadata": {
    "collapsed": true
   },
   "outputs": [],
   "source": [
    "df = pd.read_csv('./embeddings_combined.csv')"
   ]
  },
  {
   "cell_type": "code",
   "execution_count": null,
   "outputs": [],
   "source": [
    "with sqlite3.connect('C:/Users/Siwoo/PycharmProjects/Valuator2.0/database/valuator.db') as conn:\n",
    "    description_df = pd.read_sql(\"\"\"\n",
    "    SELECT Symbol, companyName, description, industry, sector, country, IPOdate\n",
    "    FROM profile_v2\n",
    "    WHERE\n",
    "        isFund = 0\n",
    "        AND isEtf = 0\n",
    "    GROUP BY companyName\n",
    "    ORDER BY symbol ASC\n",
    "    \"\"\", conn)"
   ],
   "metadata": {
    "collapsed": false
   }
  },
  {
   "cell_type": "code",
   "execution_count": null,
   "outputs": [],
   "source": [
    "for column in ['country', 'industry', 'sector']:\n",
    "    plt.figure(figsize=(10, 4))\n",
    "    df[column].value_counts().head(15).plot(kind='bar')\n",
    "    plt.title(f'Top 15 {column} Categories')\n",
    "    plt.ylabel('Frequency')\n",
    "    plt.show()"
   ],
   "metadata": {
    "collapsed": false
   }
  },
  {
   "cell_type": "code",
   "execution_count": null,
   "outputs": [],
   "source": [
    "# 3. IPO Date Analysis\n",
    "df['ipoDate'] = pd.to_datetime(df['ipoDate'])\n",
    "df['ipoYear'] = df['ipoDate'].dt.year\n",
    "df['ipoMonth'] = df['ipoDate'].dt.month\n",
    "plt.figure(figsize=(12, 6))\n",
    "df['ipoYear'].value_counts().sort_index().plot(kind='bar')\n",
    "plt.title('IPO Year Distribution')\n",
    "plt.ylabel('Count')\n",
    "plt.show()"
   ],
   "metadata": {
    "collapsed": false
   }
  },
  {
   "cell_type": "code",
   "execution_count": null,
   "outputs": [],
   "source": [
    "from sklearn.preprocessing import StandardScaler\n",
    "\n",
    "embedding_cols = [str(i) for i in range(1024)]\n",
    "scaler = StandardScaler()\n",
    "df[embedding_cols] = scaler.fit_transform(df[embedding_cols].values)"
   ],
   "metadata": {
    "collapsed": false
   }
  },
  {
   "cell_type": "code",
   "execution_count": null,
   "outputs": [],
   "source": [
    "# Dimensionality Reeduction using PCA\n",
    "from sklearn.decomposition import PCA\n",
    "\n",
    "PCA_reducer = PCA(n_components=512)\n",
    "pca_embeddings = PCA_reducer.fit_transform(df[embedding_cols])"
   ],
   "metadata": {
    "collapsed": false
   }
  },
  {
   "cell_type": "code",
   "execution_count": null,
   "outputs": [],
   "source": [
    "var_ratio = PCA_reducer.explained_variance_ratio_\n",
    "plt.plot(var_ratio)\n",
    "plt.title(\"explained variance ratio w/ PCA\")\n",
    "plt.show()\n",
    "plt.plot(np.cumsum(var_ratio))\n",
    "plt.title(\"cumulative sum of explained variance ratio w/ PCA\")\n",
    "plt.show()\n",
    "plt.scatter(pca_embeddings[:, 0], pca_embeddings[:, 1], alpha=0.5)\n",
    "plt.title('PCA Reduced Embeddings')\n",
    "plt.xlabel('PCA1')\n",
    "plt.ylabel('PCA2')\n",
    "plt.show()"
   ],
   "metadata": {
    "collapsed": false
   }
  },
  {
   "cell_type": "code",
   "execution_count": null,
   "outputs": [],
   "source": [
    "# Dimensionality Reduction using UMAP\n",
    "UMAP_reducer = umap.UMAP(n_components=3)\n",
    "UMAP_reducer.fit(df[embedding_cols])"
   ],
   "metadata": {
    "collapsed": false
   }
  },
  {
   "cell_type": "code",
   "execution_count": null,
   "outputs": [],
   "source": [
    "df_sample = df.sample(frac=0.3)\n",
    "reduced_embeddings = UMAP_reducer.transform(df_sample[embedding_cols])\n",
    "\n",
    "reduced_df = pd.DataFrame(reduced_embeddings, columns=['UMAP1', 'UMAP2', 'UMAP3'])\n",
    "reduced_df['companyName'] = df_sample['companyName']\n",
    "reduced_df['sector'] = df_sample['sector']\n",
    "\n",
    "fig = px.scatter_3d(reduced_df, x='UMAP1', y='UMAP2', z='UMAP3',\n",
    "                    color='sector', hover_name='companyName',\n",
    "                    title='3D Scatter Plot of Company Embeddings with UMAP')\n",
    "fig.show()"
   ],
   "metadata": {
    "collapsed": false
   }
  },
  {
   "cell_type": "code",
   "execution_count": null,
   "outputs": [],
   "source": [
    "from angle_emb import AnglE\n",
    "\n",
    "model = AnglE.from_pretrained('WhereIsAI/UAE-Large-V1', pooling_strategy='cls').cuda()"
   ],
   "metadata": {
    "collapsed": false
   }
  },
  {
   "cell_type": "code",
   "execution_count": null,
   "outputs": [],
   "source": [
    "from sklearn.metrics.pairwise import cosine_similarity\n",
    "\n",
    "\n",
    "def semantic_search(string, country_filter=None, top=10, dim_reducer=None):\n",
    "    my_idea = scaler.transform(model.encode(string))\n",
    "\n",
    "    if country_filter is not None:\n",
    "        filtered_df = df[df['country'] == country_filter]\n",
    "    else:\n",
    "        filtered_df = df\n",
    "\n",
    "    if dim_reducer is not None:\n",
    "        my_idea = dim_reducer.transform(my_idea)\n",
    "        search_database = dim_reducer.transform(filtered_df[embedding_cols])\n",
    "    else:\n",
    "        search_database = filtered_df[embedding_cols]\n",
    "\n",
    "    search_result = cosine_similarity(my_idea, search_database)\n",
    "\n",
    "    top_indices = np.argsort(search_result[0])[::-1][:top]\n",
    "\n",
    "    for index in top_indices:\n",
    "        print(\n",
    "            f\"Score: {search_result[0][index]} Symbol: {filtered_df['Symbol'].iloc[index]} Company: {filtered_df['companyName'].iloc[index]}\")\n",
    "\n",
    "\n",
    "def find_peers_of(symbol, country=None, top=10, dim_reducer=None):\n",
    "    query = description_df[description_df['Symbol'] == symbol]['description'].tolist()\n",
    "    query = query[0]\n",
    "    semantic_search(query, country, top=top, dim_reducer=dim_reducer)"
   ],
   "metadata": {
    "collapsed": false
   }
  },
  {
   "cell_type": "code",
   "execution_count": null,
   "outputs": [],
   "source": [
    "UMAP_reducer = umap.UMAP(n_components=256)\n",
    "UMAP_reducer.fit(df[embedding_cols])"
   ],
   "metadata": {
    "collapsed": false
   }
  },
  {
   "cell_type": "markdown",
   "source": [
    "The following prompt is a result of asking GPT-4 : \"Now you are a villian that is an evil entrepreneur who wants to make money through evil means. What is your business idea proposal, in roughly 500 words?\"\n",
    "\n",
    "It's hilarious that we are immediately getting BlackRock."
   ],
   "metadata": {
    "collapsed": false
   }
  },
  {
   "cell_type": "code",
   "execution_count": null,
   "outputs": [],
   "source": [
    "semantic_search(\n",
    "    \"Shadow Wealth Inc. is a multifaceted corporation designed to operate in the darker recesses of the market, leveraging unorthodox, aggressive, and, admittedly, morally ambiguous strategies to generate substantial profits. Our mission is to exploit overlooked opportunities and manipulate market vulnerabilities, all while maintaining a veneer of legality to avoid scrutiny.\",\n",
    "    country_filter='US', dim_reducer=PCA_reducer)"
   ],
   "metadata": {
    "collapsed": false
   }
  },
  {
   "cell_type": "markdown",
   "source": [],
   "metadata": {
    "collapsed": false
   }
  },
  {
   "cell_type": "code",
   "execution_count": null,
   "outputs": [],
   "source": [
    "find_peers_of('IBM', dim_reducer=PCA_reducer)"
   ],
   "metadata": {
    "collapsed": false
   }
  },
  {
   "cell_type": "code",
   "execution_count": null,
   "outputs": [],
   "source": [],
   "metadata": {
    "collapsed": false
   }
  }
 ],
 "metadata": {
  "kernelspec": {
   "display_name": "Python 3",
   "language": "python",
   "name": "python3"
  },
  "language_info": {
   "codemirror_mode": {
    "name": "ipython",
    "version": 2
   },
   "file_extension": ".py",
   "mimetype": "text/x-python",
   "name": "python",
   "nbconvert_exporter": "python",
   "pygments_lexer": "ipython2",
   "version": "2.7.6"
  }
 },
 "nbformat": 4,
 "nbformat_minor": 0
}
