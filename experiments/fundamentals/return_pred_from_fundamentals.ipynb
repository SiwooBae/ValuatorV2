{
 "cells": [
  {
   "cell_type": "markdown",
   "source": [
    "Here, we are trying to predict the future log return distribution based on financial statements."
   ],
   "metadata": {
    "collapsed": false
   }
  },
  {
   "cell_type": "code",
   "execution_count": 161,
   "outputs": [],
   "source": [
    "import sqlite3\n",
    "import datetime\n",
    "import pandas as pd\n",
    "import matplotlib.pyplot as plt\n",
    "import numpy as np\n",
    "\n",
    "%matplotlib inline\n",
    "\n",
    "conn = sqlite3.connect('C:/Users/Siwoo/PycharmProjects/ValuatorV2/database/valuator.db')"
   ],
   "metadata": {
    "collapsed": false
   }
  },
  {
   "cell_type": "markdown",
   "source": [
    "Adjust the following parameters to tweak the pipeline"
   ],
   "metadata": {
    "collapsed": false
   }
  },
  {
   "cell_type": "code",
   "execution_count": 162,
   "outputs": [],
   "source": [
    "param = {}  # a dict that stores all the parameter values\n",
    "\n",
    "param[\"date_begin\"] = datetime.datetime(2010, 1, 1)  # earliest of the whole data\n",
    "param[\"val_split_point\"] = datetime.datetime(2020, 1, 1)  # valid date begins with this date\n",
    "param[\"date_end\"] = datetime.datetime(2023, 12, 1)  # latest of the whole data\n",
    "\n",
    "# preprocessing steps for x (financial statements)\n",
    "param[\"TTM\"] = False  # uses trailing twelve months average data instead of raw\n",
    "param[\"adjust_price_w_CPI\"] = True  # allows adjusting prices with CPI data\n",
    "param[\"apply_asset_constraint\"] = False  # allows applying the asset constraint (asset = equity + liability)\n",
    "param[\"apply_nonnegative_constraint\"] = False  # deletes rows where their supposedly non-negative columns have negative column values\n",
    "param[\"divide_by_total_assets\"] = True  # divide the relevant columns with total assets to diminish multicolinearity\n",
    "\n",
    "param[\"prune_outlier\"] = False  # prune outlier\n",
    "param[\"Winsorize\"] = True\n",
    "param[\"outlier_quantile\"] = 0.999  # cutoff value determined by quantile. 0.99 means keep 99% of the values\n",
    "param[\"outlier_thresh\"] = 2  # rows up to this many outlier value will survive\n",
    "\n",
    "#preprocessing steps for y (close)\n",
    "param[\"adjust_using_SPY\"] = True  # use market-adjusted log returns instead of regular returns. Removes any market-induced movements\n",
    "param[\"window_length\"] = 365  # days forward to calculate mean (or std) log returns\n",
    "param[\"min_periods\"] = 120  # minimum days needed to calculate the mean (or std) log returns\n",
    "param[\"transform_to_cls\"] = False  # transforms the problem into classification problem (return > 0 or not)\n",
    "\n"
   ],
   "metadata": {
    "collapsed": false
   }
  },
  {
   "cell_type": "code",
   "execution_count": 163,
   "outputs": [],
   "source": [
    "df = pd.read_sql(\"\"\"\n",
    "SELECT * FROM bic\n",
    "WHERE symbol in\n",
    "    (SELECT symbol FROM profiles\n",
    "    WHERE country = \"US\"\n",
    "    AND isFund = 0\n",
    "    AND isEtf = 0\n",
    "    AND currency = \"USD\"\n",
    "    AND (exchangeShortName = \"NASDAQ\" OR exchangeShortName = \"NYSE\"))\n",
    "    AND symbol NOT LIKE '%W'\n",
    "ORDER BY symbol, date ASC\n",
    "\"\"\", con=conn)\n",
    "\n",
    "macro_df = pd.read_sql(\"\"\"\n",
    "SELECT * FROM macro_US\n",
    "\"\"\", con=conn)\n",
    "\n",
    "cursor = conn.execute(\"\"\"SELECT * FROM balance\"\"\")\n",
    "balance_columns = [description[0] for description in cursor.description]\n",
    "\n",
    "cursor = conn.execute(\"\"\"SELECT * FROM income\"\"\")\n",
    "income_columns = [description[0] for description in cursor.description]\n",
    "\n",
    "cursor = conn.execute(\"\"\"SELECT * FROM cashflow\"\"\")\n",
    "cashflow_columns = [description[0] for description in cursor.description]"
   ],
   "metadata": {
    "collapsed": false
   }
  },
  {
   "cell_type": "code",
   "execution_count": 164,
   "outputs": [],
   "source": [
    "df['fillingDate'] = pd.to_datetime(df['fillingDate'])\n",
    "df['date'] = pd.to_datetime(df['date'])\n",
    "macro_df['date'] = pd.to_datetime(macro_df['date'])\n",
    "CPI_base = macro_df[macro_df['date'] == param[\"val_split_point\"]]['CPI'].values\n",
    "macro_df['CPI'] = macro_df['CPI'] / CPI_base"
   ],
   "metadata": {
    "collapsed": false
   }
  },
  {
   "cell_type": "code",
   "execution_count": 165,
   "outputs": [],
   "source": [
    "df = df.merge(macro_df, how=\"left\", on=\"date\")\n",
    "df = df.set_index(['symbol', 'fillingDate'])\n",
    "df = df.drop(columns=['date', 'reportedCurrency'])"
   ],
   "metadata": {
    "collapsed": false
   }
  },
  {
   "cell_type": "code",
   "execution_count": 166,
   "outputs": [],
   "source": [
    "balance_ignored_features = ['goodwillAndIntangibleAssets',\n",
    "                            'totalLiabilitiesAndStockholdersEquity',\n",
    "                            'netDebt',\n",
    "                            'cashAndShortTermInvestments']\n",
    "income_ignored_features = ['grossProfitRatio',\n",
    "                           'costAndExpenses',\n",
    "                           'EBITDARatio',\n",
    "                           'operatingIncomeRatio',\n",
    "                           'incomeBeforeTaxRatio',\n",
    "                           'netIncomeRatio',\n",
    "                           'EPSDiluted',\n",
    "                           'weightedAverageShsOut',\n",
    "                           'weightedAverageShsOutDil',\n",
    "                           'interestIncome']\n",
    "cashflow_ignored_features = []  # nothing yet\n",
    "macro_ignored_features = ['realGDP', \"consumerSentiment\", \"smoothedUSRecessionProbabilities\"]"
   ],
   "metadata": {
    "collapsed": false
   }
  },
  {
   "cell_type": "code",
   "execution_count": 167,
   "outputs": [],
   "source": [
    "df = df.drop(\n",
    "    columns=balance_ignored_features + income_ignored_features + cashflow_ignored_features + macro_ignored_features)"
   ],
   "metadata": {
    "collapsed": false
   }
  },
  {
   "cell_type": "code",
   "execution_count": 168,
   "outputs": [
    {
     "name": "stdout",
     "output_type": "stream",
     "text": [
      "Index(['deferredRevenue', 'commonStock', 'cashAndCashEquivalents',\n",
      "       'minorityInterest', 'totalNonCurrentAssets', 'changeInWorkingCapital',\n",
      "       'inventory', 'deferredTaxLiabilitiesNonCurrent', 'freeCashFlow',\n",
      "       'accountsReceivables', 'shortTermDebt', 'intangibleAssets',\n",
      "       'capitalLeaseObligations', 'acquisitionsNet',\n",
      "       'deferrredTaxLiabilitiesNonCurrent', 'goodwill',\n",
      "       'netCashUsedForInvestingActivites', 'preferredStock', 'grossProfit',\n",
      "       'taxAssets', 'capitalExpenditure', 'accountPayables',\n",
      "       'totalCurrentLiabilities', 'cashAtEndOfPeriod',\n",
      "       'totalStockholdersEquity', 'operatingIncome', 'totalDebt',\n",
      "       'netCashProvidedByOperatingActivites', 'netChangeInCash', 'EBITDA',\n",
      "       'revenue', 'salesMaturitiesOfInvestments', 'deferredRevenueNonCurrent',\n",
      "       'totalLiabilities', 'retainedEarnings', 'stockBasedCompensation',\n",
      "       'longTermInvestments', 'shortTermInvestments', 'commonStockRepurchased',\n",
      "       'purchasesOfInvestments', 'totalCurrentAssets', 'dividendsPaid',\n",
      "       'costOfRevenue', 'SellingGeneralAndAdministrativeExpenses',\n",
      "       'taxPayables', 'operatingCashFlow', 'totalNonCurrentLiabilities',\n",
      "       'SellingAndMarketingExpenses', 'deferredIncomeTax', 'incomeTaxExpense',\n",
      "       'cashAtBeginningOfPeriod', 'debtRepayment',\n",
      "       'GeneralAndAdministrativeExpenses',\n",
      "       'investmentsInPropertyPlantAndEquipment',\n",
      "       'netCashUsedProvidedByFinancingActivities', 'totalInvestments',\n",
      "       'operatingExpenses', 'commonStockIssued', 'totalAssets',\n",
      "       'propertyPlantEquipmentNet', 'incomeBeforeTax',\n",
      "       'effectOfForexChangesOnCash', 'ResearchAndDevelopmentExpenses',\n",
      "       'interestExpense', 'netReceivables', 'EPS', 'longTermDebt', 'CPI',\n",
      "       'federalFunds'],\n",
      "      dtype='object')\n"
     ]
    }
   ],
   "source": [
    "other_dropped_columns = []\n",
    "for column in df.columns:\n",
    "    if \"other\" in str(column).lower() or \"1\" in str(column).lower():\n",
    "        other_dropped_columns.append(column)\n",
    "df = df.drop(columns=other_dropped_columns)\n",
    "print(df.columns)"
   ],
   "metadata": {
    "collapsed": false
   }
  },
  {
   "cell_type": "markdown",
   "source": [
    "Adjust price level using CPI"
   ],
   "metadata": {
    "collapsed": false
   }
  },
  {
   "cell_type": "code",
   "execution_count": 169,
   "outputs": [],
   "source": [
    "if param[\"adjust_price_w_CPI\"]:\n",
    "    df['federalFunds'] = df['federalFunds'] * df['CPI']\n",
    "    df = df.divide(df['CPI'], axis=0)\n",
    "df = df.drop(columns='CPI')"
   ],
   "metadata": {
    "collapsed": false
   }
  },
  {
   "cell_type": "markdown",
   "source": [
    "Visualization: the following code reorders columns so that they are grouped by their financial statement types(balance/income/cashflow) for better visualization"
   ],
   "metadata": {
    "collapsed": false
   }
  },
  {
   "cell_type": "code",
   "execution_count": 170,
   "outputs": [],
   "source": [
    "def reorder_dataframe(df, column_order):\n",
    "    \"\"\"\n",
    "    Reorders a DataFrame based on a given list of column names.\n",
    "\n",
    "    :param df: pandas DataFrame\n",
    "    :param column_order: List of column names to order the DataFrame by\n",
    "    :return: Reordered DataFrame\n",
    "    \"\"\"\n",
    "    # Remove duplicates while preserving order\n",
    "    seen = set()\n",
    "    unique_column_order = [col for col in column_order if col not in seen and not seen.add(col)]\n",
    "\n",
    "    # Filter out columns that are not in the DataFrame\n",
    "    valid_columns = [col for col in unique_column_order if col in df.columns]\n",
    "\n",
    "    extra_columns = [col for col in df.columns if col not in valid_columns]\n",
    "\n",
    "    # Reorder the DataFrame\n",
    "    reordered_df = df[valid_columns + extra_columns]\n",
    "\n",
    "    return reordered_df"
   ],
   "metadata": {
    "collapsed": false
   }
  },
  {
   "cell_type": "code",
   "execution_count": 171,
   "outputs": [],
   "source": [
    "df = reorder_dataframe(df, balance_columns + income_columns + cashflow_columns)"
   ],
   "metadata": {
    "collapsed": false
   }
  },
  {
   "cell_type": "code",
   "execution_count": 172,
   "outputs": [],
   "source": [
    "# TTM script\n",
    "if param[\"TTM\"]:\n",
    "    df_TTM = df.groupby(level=0).rolling(4, min_periods=4).mean().droplevel(0)\n",
    "    df = df_TTM  # I know this one is useless, but I felt like adding this"
   ],
   "metadata": {
    "collapsed": false
   }
  },
  {
   "cell_type": "markdown",
   "source": [
    "drop rows with nulls"
   ],
   "metadata": {
    "collapsed": false
   }
  },
  {
   "cell_type": "code",
   "execution_count": 173,
   "outputs": [
    {
     "name": "stdout",
     "output_type": "stream",
     "text": [
      "cashAndCashEquivalents              0\n",
      "shortTermInvestments                0\n",
      "netReceivables                      0\n",
      "inventory                           0\n",
      "totalCurrentAssets                  0\n",
      "                                   ..\n",
      "operatingCashFlow                   0\n",
      "capitalExpenditure                  0\n",
      "freeCashFlow                        0\n",
      "deferredTaxLiabilitiesNonCurrent    0\n",
      "federalFunds                        0\n",
      "Length: 68, dtype: int64\n"
     ]
    }
   ],
   "source": [
    "df = df.dropna(axis=0, how=\"any\")\n",
    "print(df.isna().sum())"
   ],
   "metadata": {
    "collapsed": false
   }
  },
  {
   "cell_type": "markdown",
   "source": [
    "Preprocessing: removes any rows that do not satisfy the asset constraint\n",
    "asset constraint:\n",
    "equity + liability = asset\n",
    "current asset + noncurrent asset = total asset"
   ],
   "metadata": {
    "collapsed": false
   }
  },
  {
   "cell_type": "code",
   "execution_count": 174,
   "outputs": [],
   "source": [
    "if param[\"apply_asset_constraint\"]:\n",
    "    asset_current_mask = np.abs((df['totalCurrentAssets'] + df['totalNonCurrentAssets']) / df['totalAssets']) < 1.001\n",
    "    asset_total_mask = np.abs((df['totalStockholdersEquity'] + df['totalLiabilities']) / df['totalAssets']) < 1.001\n",
    "    mask = np.logical_and(asset_total_mask, asset_current_mask)\n",
    "    df = df[mask]"
   ],
   "metadata": {
    "collapsed": false
   }
  },
  {
   "cell_type": "markdown",
   "source": [
    "Preprocessing: The following code removes any rows with invalid data--for example, total asset shouldn't be negative. Done by deleting rows where nonnegative constriant columns have negative values. the nonnegative constraint columns are chosen by finding columns that only have less than 1% of negative values."
   ],
   "metadata": {
    "collapsed": false
   }
  },
  {
   "cell_type": "code",
   "execution_count": 175,
   "outputs": [],
   "source": [
    "if param[\"apply_nonnegative_constraint\"]:\n",
    "    nonnegative_constraint_columns = []\n",
    "    for column in df.columns:\n",
    "        if df[column].min() < 0 and np.sum(df[column] < 0) < 0.01 * len(df):\n",
    "            print(column)\n",
    "            print(np.sum(df[column] < 0), \"/\", len(df))\n",
    "            nonnegative_constraint_columns.append(column)\n",
    "\n",
    "    for column in nonnegative_constraint_columns:\n",
    "        df = df[df[column] >= 0]"
   ],
   "metadata": {
    "collapsed": false
   }
  },
  {
   "cell_type": "markdown",
   "source": [
    "Preprocessing: divides all money-related columns with total asset and log transforms total asset."
   ],
   "metadata": {
    "collapsed": false
   }
  },
  {
   "cell_type": "code",
   "execution_count": 176,
   "outputs": [],
   "source": [
    "if param[\"divide_by_total_assets\"]:\n",
    "    df = df[df['totalAssets'] > 0]\n",
    "    unaffected_cols = ['federalFunds', 'totalAssets']\n",
    "    affected_cols = [col for col in df.columns if col not in unaffected_cols]\n",
    "    df[affected_cols] = df[affected_cols].div(df['totalAssets'], axis=0)\n",
    "    df['totalAssets'] = np.log(df['totalAssets'])"
   ],
   "metadata": {
    "collapsed": false
   }
  },
  {
   "cell_type": "markdown",
   "source": [
    "Visualization: check correlation matrix to see correlations between features"
   ],
   "metadata": {
    "collapsed": false
   }
  },
  {
   "cell_type": "code",
   "execution_count": 177,
   "outputs": [],
   "source": [
    "def find_correlated_pairs(df, threshold=0.5):\n",
    "    \"\"\"\n",
    "    Finds all pairs of columns in a DataFrame that have a correlation\n",
    "    greater than a specified threshold or less than the negative of that threshold.\n",
    "\n",
    "    :param df: pandas DataFrame\n",
    "    :param threshold: correlation threshold\n",
    "    :return: list of tuples with the pairs of correlated columns\n",
    "    \"\"\"\n",
    "    correlated_pairs = []\n",
    "\n",
    "    # Calculate the correlation matrix\n",
    "    corr_matrix = df.corr()\n",
    "\n",
    "    # Iterate over each element in the correlation matrix\n",
    "    for i in range(len(corr_matrix.columns)):\n",
    "        for j in range(i):\n",
    "            if abs(corr_matrix.iloc[i, j]) > threshold:\n",
    "                correlated_pairs.append((corr_matrix.columns[i], corr_matrix.columns[j]))\n",
    "\n",
    "    return correlated_pairs"
   ],
   "metadata": {
    "collapsed": false
   }
  },
  {
   "cell_type": "code",
   "execution_count": 178,
   "outputs": [],
   "source": [
    "import networkx as nx\n",
    "\n",
    "\n",
    "def plot_correlation_network(df, threshold=0.5):\n",
    "    \"\"\"\n",
    "    Plots a 2D correlation network from the correlation matrix of a DataFrame.\n",
    "\n",
    "    :param df: pandas DataFrame\n",
    "    :param threshold: correlation threshold for including an edge in the network\n",
    "    \"\"\"\n",
    "    # Calculate the correlation matrix\n",
    "    corr_matrix = df.corr()\n",
    "\n",
    "    # Create a graph\n",
    "    G = nx.Graph()\n",
    "\n",
    "    # Add nodes\n",
    "    for column in corr_matrix.columns:\n",
    "        G.add_node(column)\n",
    "\n",
    "    # Add edges\n",
    "    for i in range(len(corr_matrix.columns)):\n",
    "        for j in range(i):\n",
    "            if abs(corr_matrix.iloc[i, j]) > threshold:\n",
    "                G.add_edge(corr_matrix.columns[i], corr_matrix.columns[j], weight=corr_matrix.iloc[i, j])\n",
    "\n",
    "    # Draw the network\n",
    "    pos = nx.spring_layout(G)  # positions for all nodes\n",
    "    edges = G.edges(data=True)\n",
    "    nx.draw(G, pos, with_labels=True, node_size=700, node_color=\"skyblue\", alpha=0.7,\n",
    "            width=[(1 + abs(d['weight'])) * 0.5 for u, v, d in edges],\n",
    "            edge_color=[(\"red\" if d['weight'] < 0 else \"green\") for u, v, d in edges])\n",
    "\n",
    "    plt.title(\"Correlation Network\")\n",
    "    plt.show()"
   ],
   "metadata": {
    "collapsed": false
   }
  },
  {
   "cell_type": "code",
   "execution_count": 179,
   "outputs": [],
   "source": [
    "# corr_pairs = find_correlated_pairs(df)\n",
    "# plot_correlation_network(df, threshold=0.3)"
   ],
   "metadata": {
    "collapsed": false
   }
  },
  {
   "cell_type": "markdown",
   "source": [
    "visualization: see histogram"
   ],
   "metadata": {
    "collapsed": false
   }
  },
  {
   "cell_type": "code",
   "execution_count": 180,
   "outputs": [],
   "source": [
    "def plot_histogram_with_pruning(dataframe, column, q=0.99):\n",
    "    \"\"\"\n",
    "    Plots a histogram of a DataFrame column while pruning out the top and bottom 1% of the distribution.\n",
    "\n",
    "    :param dataframe: pandas DataFrame\n",
    "    :param column: column name (string) whose distribution to plot\n",
    "    :param q: quantile\n",
    "    \"\"\"\n",
    "    # Ensure the column exists in the DataFrame\n",
    "    if column not in dataframe.columns:\n",
    "        print(f\"Column '{column}' not found in DataFrame.\")\n",
    "        return\n",
    "\n",
    "    # Prune the top and bottom of the data\n",
    "\n",
    "    if df[column].min() >= 0:\n",
    "        upper_bound = dataframe[column].quantile(q)\n",
    "        pruned_data = dataframe[column][dataframe[column] <= upper_bound]\n",
    "    else:\n",
    "        lower_bound = dataframe[column].quantile(1 - q)\n",
    "        upper_bound = dataframe[column].quantile(q)\n",
    "        pruned_data = dataframe[column][(dataframe[column] >= lower_bound) & (dataframe[column] <= upper_bound)]\n",
    "\n",
    "    # Plot histogram\n",
    "    plt.hist(pruned_data, bins=100, log=True)\n",
    "    plt.title(f\"Histogram of '{column}' ({(1 - q) * 100}% Pruned)\")\n",
    "    plt.xlabel(column)\n",
    "    plt.ylabel('Frequency')\n",
    "    plt.show()\n"
   ],
   "metadata": {
    "collapsed": false
   }
  },
  {
   "cell_type": "code",
   "execution_count": 181,
   "outputs": [],
   "source": [
    "# for col in df.columns:\n",
    "#     plot_histogram_with_pruning(df, col, q=0.99)"
   ],
   "metadata": {
    "collapsed": false
   }
  },
  {
   "cell_type": "markdown",
   "source": [
    "Load price data from the DB"
   ],
   "metadata": {
    "collapsed": false
   }
  },
  {
   "cell_type": "code",
   "execution_count": 182,
   "outputs": [],
   "source": [
    "close_prices = pd.read_sql(f\"\"\"\n",
    "SELECT date, symbol, close\n",
    "FROM cv\n",
    "WHERE symbol in (SELECT symbol FROM profiles\n",
    "    WHERE country = \"US\"\n",
    "    AND isFund = 0\n",
    "    AND isEtf = 0\n",
    "    AND currency = \"USD\"\n",
    "    AND (exchangeShortName = \"NASDAQ\" OR exchangeShortName = \"NYSE\"))\n",
    "    AND date BETWEEN date('{param[\"date_begin\"].strftime(\"%Y-%m-%d\")}') AND date('{param[\"date_end\"].strftime(\"%Y-%m-%d\")}')\n",
    "\"\"\", con=conn, index_col=[\"symbol\", \"date\"])"
   ],
   "metadata": {
    "collapsed": false
   }
  },
  {
   "cell_type": "markdown",
   "source": [
    "Unstack it"
   ],
   "metadata": {
    "collapsed": false
   }
  },
  {
   "cell_type": "code",
   "execution_count": 183,
   "outputs": [],
   "source": [
    "close_prices = close_prices['close'].unstack(level=0)"
   ],
   "metadata": {
    "collapsed": false
   }
  },
  {
   "cell_type": "code",
   "execution_count": 184,
   "outputs": [],
   "source": [
    "spy = pd.read_sql(f\"\"\"\n",
    "SELECT date, symbol, close\n",
    "FROM cv\n",
    "WHERE symbol = \"SPY\" AND date BETWEEN date('{param[\"date_begin\"].strftime(\"%Y-%m-%d\")}') AND date('{param[\"date_end\"].strftime(\"%Y-%m-%d\")}')\n",
    "\"\"\", con=conn, index_col=[\"symbol\", \"date\"])"
   ],
   "metadata": {
    "collapsed": false
   }
  },
  {
   "cell_type": "code",
   "execution_count": 185,
   "outputs": [],
   "source": [
    "spy = spy[\"close\"].unstack(level=0)"
   ],
   "metadata": {
    "collapsed": false
   }
  },
  {
   "cell_type": "code",
   "execution_count": 186,
   "outputs": [],
   "source": [
    "close_prices = pd.merge(close_prices, spy, \"left\", on='date')"
   ],
   "metadata": {
    "collapsed": false
   }
  },
  {
   "cell_type": "code",
   "execution_count": 187,
   "outputs": [],
   "source": [
    "close_prices[\n",
    "    close_prices <= 0] = pd.NA  # turn any nonpositive numbers to Null values. We can't have negative price in stocks!\n",
    "close_prices = close_prices.dropna(how='all', axis=1)  # now drop all symbols that have no values at all\n",
    "close_prices = np.log(close_prices)  # apply log to every value\n",
    "close_prices = close_prices.diff()  # calculate difference"
   ],
   "metadata": {
    "collapsed": false
   }
  },
  {
   "cell_type": "markdown",
   "source": [
    "Parameter: log return -> market adjusted log return"
   ],
   "metadata": {
    "collapsed": false
   }
  },
  {
   "cell_type": "code",
   "execution_count": 188,
   "outputs": [],
   "source": [
    "if param[\"adjust_using_SPY\"]:\n",
    "    close_prices = close_prices.subtract(close_prices[\"SPY\"], axis=0)"
   ],
   "metadata": {
    "collapsed": false
   }
  },
  {
   "cell_type": "markdown",
   "source": [
    "Parameter: forward window=365(days)"
   ],
   "metadata": {
    "collapsed": false
   }
  },
  {
   "cell_type": "code",
   "execution_count": 189,
   "outputs": [],
   "source": [
    "indexer = pd.api.indexers.FixedForwardWindowIndexer(window_size=param[\"window_length\"])\n",
    "close_prices_mean = close_prices.rolling(window=indexer,\n",
    "                                         min_periods=param[\"min_periods\"]).mean()\n",
    "# survivorship bias warning, this may nullify all delisted companies\n",
    "close_prices_mean = close_prices_mean * 365  # annualize the data"
   ],
   "metadata": {
    "collapsed": false
   }
  },
  {
   "cell_type": "code",
   "execution_count": 190,
   "outputs": [],
   "source": [
    "close_prices_mean.index = pd.to_datetime(close_prices_mean.index)\n",
    "close_prices = close_prices_mean.stack()\n",
    "close_prices.name = \"close\""
   ],
   "metadata": {
    "collapsed": false
   }
  },
  {
   "cell_type": "code",
   "execution_count": 191,
   "outputs": [],
   "source": [
    "df_ready = df.merge(close_prices, how='inner', left_index=True, right_on=['symbol', 'date'])\n",
    "df_ready = df_ready.dropna(axis=0, how=\"any\")\n",
    "df_ready = df_ready.swaplevel(0, 1, axis=0)"
   ],
   "metadata": {
    "collapsed": false
   }
  },
  {
   "cell_type": "markdown",
   "source": [
    "Parameter: classification, or regression?"
   ],
   "metadata": {
    "collapsed": false
   }
  },
  {
   "cell_type": "code",
   "execution_count": 192,
   "outputs": [],
   "source": [
    "if param[\"transform_to_cls\"]:\n",
    "    df_ready[\"close\"] = df_ready[\"close\"] >= 0"
   ],
   "metadata": {
    "collapsed": false
   }
  },
  {
   "cell_type": "code",
   "execution_count": 193,
   "outputs": [],
   "source": [
    "train_mask = df_ready.index.get_level_values('date') < (\n",
    "            param[\"val_split_point\"] - datetime.timedelta(days=param[\"window_length\"]))\n",
    "valid_mask = df_ready.index.get_level_values('date') > param[\"val_split_point\"]\n",
    "train = df_ready.loc[train_mask]\n",
    "valid = df_ready.loc[valid_mask]"
   ],
   "metadata": {
    "collapsed": false
   }
  },
  {
   "cell_type": "markdown",
   "source": [
    "Preprocessing: outlier pruning"
   ],
   "metadata": {
    "collapsed": false
   }
  },
  {
   "cell_type": "code",
   "execution_count": 194,
   "outputs": [],
   "source": [
    "class Winsorizer:\n",
    "    def __init__(self):\n",
    "        self.column_quantiles = []\n",
    "        self.is_fitted = False\n",
    "\n",
    "    def fit(self, dataframe, exclude_columns, q=0.99):\n",
    "        for col in dataframe.columns:\n",
    "            if col not in exclude_columns:\n",
    "                if dataframe[col].min() >= 0:\n",
    "                    lower_bound = -1\n",
    "                    upper_bound = dataframe[col].quantile(q)\n",
    "                else:\n",
    "                    lower_bound = dataframe[col].quantile(1 - q)\n",
    "                    upper_bound = dataframe[col].quantile(q)\n",
    "                self.column_quantiles.append((col, lower_bound, upper_bound))\n",
    "        self.is_fitted = True\n",
    "\n",
    "    def transform(self, dataframe):\n",
    "        if self.is_fitted:\n",
    "            for col, lower, upper in self.column_quantiles:\n",
    "                dataframe.loc[:, col] = np.clip(dataframe[col], lower, upper)\n",
    "            return dataframe\n",
    "        else:\n",
    "            raise Exception(\"cannot transform before fitting.\")\n",
    "\n",
    "class OutlierPruner:\n",
    "    def __init__(self):\n",
    "        self.column_quantiles = []\n",
    "\n",
    "    def fit(self, dataframe, exclude_columns, q=0.99):\n",
    "        for col in dataframe.columns:\n",
    "            if col not in exclude_columns:\n",
    "                if dataframe[col].min() >= 0:\n",
    "                    lower_bound = -1\n",
    "                    upper_bound = dataframe[col].quantile(q)\n",
    "                else:\n",
    "                    lower_bound = dataframe[col].quantile(1 - q)\n",
    "                    upper_bound = dataframe[col].quantile(q)\n",
    "                self.column_quantiles.append((col, lower_bound, upper_bound))\n",
    "\n",
    "    def transform(self, dataframe, thresh=0):\n",
    "        counter = 0\n",
    "        m_total = pd.Series(0, index=dataframe.index, name=\"total mask\")\n",
    "        for col, lower, upper in self.column_quantiles:\n",
    "            m_total += ((dataframe[col] >= lower) & (dataframe[col] <= upper))\n",
    "            counter += 1\n",
    "        mask = m_total >= counter - thresh\n",
    "        return dataframe[mask]"
   ],
   "metadata": {
    "collapsed": false
   }
  },
  {
   "cell_type": "code",
   "execution_count": 195,
   "outputs": [
    {
     "name": "stdout",
     "output_type": "stream",
     "text": [
      "shape after pruning: (95377, 69) (65331, 69)\n"
     ]
    }
   ],
   "source": [
    "if param[\"prune_outlier\"]:\n",
    "    pruner = OutlierPruner()\n",
    "\n",
    "    print(\"shape before pruning:\", train.shape, valid.shape)\n",
    "    pruner.fit(train, ['federalFunds', 'close'], q=param[\"outlier_quantile\"])\n",
    "    train = pruner.transform(train, thresh=param[\"outlier_thresh\"])\n",
    "    valid = pruner.transform(valid, thresh=param[\"outlier_thresh\"])\n",
    "    print(\"shape after pruning:\", train.shape, valid.shape)\n",
    "\n",
    "if param[\"Winsorize\"]:\n",
    "    pruner = Winsorizer()\n",
    "    pruner.fit(train, ['federalFunds'], q=param[\"outlier_quantile\"])\n",
    "    train = pruner.transform(train)\n",
    "    valid = pruner.transform(valid)\n",
    "    print(\"shape after pruning:\", train.shape, valid.shape)"
   ],
   "metadata": {
    "collapsed": false
   }
  },
  {
   "cell_type": "code",
   "execution_count": 196,
   "outputs": [],
   "source": [
    "train_x, train_y = train.drop(columns=\"close\").to_numpy(), train[\"close\"].to_numpy()\n",
    "valid_x, valid_y = valid.drop(columns=\"close\").to_numpy(), valid[\"close\"].to_numpy()"
   ],
   "metadata": {
    "collapsed": false
   }
  },
  {
   "cell_type": "code",
   "execution_count": 197,
   "outputs": [
    {
     "name": "stdout",
     "output_type": "stream",
     "text": [
      "[0]\tvalidation_0-mphe:0.18841\n",
      "[1]\tvalidation_0-mphe:0.18821\n",
      "[2]\tvalidation_0-mphe:0.18802\n",
      "[3]\tvalidation_0-mphe:0.18783\n",
      "[4]\tvalidation_0-mphe:0.18764\n",
      "[5]\tvalidation_0-mphe:0.18746\n",
      "[6]\tvalidation_0-mphe:0.18729\n",
      "[7]\tvalidation_0-mphe:0.18711\n",
      "[8]\tvalidation_0-mphe:0.18694\n",
      "[9]\tvalidation_0-mphe:0.18677\n",
      "[10]\tvalidation_0-mphe:0.18660\n",
      "[11]\tvalidation_0-mphe:0.18644\n",
      "[12]\tvalidation_0-mphe:0.18627\n",
      "[13]\tvalidation_0-mphe:0.18611\n",
      "[14]\tvalidation_0-mphe:0.18595\n",
      "[15]\tvalidation_0-mphe:0.18580\n",
      "[16]\tvalidation_0-mphe:0.18567\n",
      "[17]\tvalidation_0-mphe:0.18552\n",
      "[18]\tvalidation_0-mphe:0.18538\n",
      "[19]\tvalidation_0-mphe:0.18524\n",
      "[20]\tvalidation_0-mphe:0.18510\n",
      "[21]\tvalidation_0-mphe:0.18496\n",
      "[22]\tvalidation_0-mphe:0.18482\n",
      "[23]\tvalidation_0-mphe:0.18468\n",
      "[24]\tvalidation_0-mphe:0.18455\n",
      "[25]\tvalidation_0-mphe:0.18442\n",
      "[26]\tvalidation_0-mphe:0.18431\n",
      "[27]\tvalidation_0-mphe:0.18417\n",
      "[28]\tvalidation_0-mphe:0.18405\n",
      "[29]\tvalidation_0-mphe:0.18394\n",
      "[30]\tvalidation_0-mphe:0.18382\n",
      "[31]\tvalidation_0-mphe:0.18369\n",
      "[32]\tvalidation_0-mphe:0.18358\n",
      "[33]\tvalidation_0-mphe:0.18348\n",
      "[34]\tvalidation_0-mphe:0.18337\n",
      "[35]\tvalidation_0-mphe:0.18325\n",
      "[36]\tvalidation_0-mphe:0.18315\n",
      "[37]\tvalidation_0-mphe:0.18307\n",
      "[38]\tvalidation_0-mphe:0.18297\n",
      "[39]\tvalidation_0-mphe:0.18285\n",
      "[40]\tvalidation_0-mphe:0.18275\n",
      "[41]\tvalidation_0-mphe:0.18266\n",
      "[42]\tvalidation_0-mphe:0.18257\n",
      "[43]\tvalidation_0-mphe:0.18247\n",
      "[44]\tvalidation_0-mphe:0.18236\n",
      "[45]\tvalidation_0-mphe:0.18227\n",
      "[46]\tvalidation_0-mphe:0.18217\n",
      "[47]\tvalidation_0-mphe:0.18207\n",
      "[48]\tvalidation_0-mphe:0.18197\n",
      "[49]\tvalidation_0-mphe:0.18187\n",
      "[50]\tvalidation_0-mphe:0.18179\n",
      "[51]\tvalidation_0-mphe:0.18168\n",
      "[52]\tvalidation_0-mphe:0.18161\n",
      "[53]\tvalidation_0-mphe:0.18152\n",
      "[54]\tvalidation_0-mphe:0.18143\n",
      "[55]\tvalidation_0-mphe:0.18134\n",
      "[56]\tvalidation_0-mphe:0.18127\n",
      "[57]\tvalidation_0-mphe:0.18118\n",
      "[58]\tvalidation_0-mphe:0.18109\n",
      "[59]\tvalidation_0-mphe:0.18101\n",
      "[60]\tvalidation_0-mphe:0.18094\n",
      "[61]\tvalidation_0-mphe:0.18086\n",
      "[62]\tvalidation_0-mphe:0.18078\n",
      "[63]\tvalidation_0-mphe:0.18071\n",
      "[64]\tvalidation_0-mphe:0.18062\n",
      "[65]\tvalidation_0-mphe:0.18054\n",
      "[66]\tvalidation_0-mphe:0.18049\n",
      "[67]\tvalidation_0-mphe:0.18041\n",
      "[68]\tvalidation_0-mphe:0.18034\n",
      "[69]\tvalidation_0-mphe:0.18029\n",
      "[70]\tvalidation_0-mphe:0.18022\n",
      "[71]\tvalidation_0-mphe:0.18014\n",
      "[72]\tvalidation_0-mphe:0.18007\n",
      "[73]\tvalidation_0-mphe:0.18003\n",
      "[74]\tvalidation_0-mphe:0.17997\n",
      "[75]\tvalidation_0-mphe:0.17991\n",
      "[76]\tvalidation_0-mphe:0.17984\n",
      "[77]\tvalidation_0-mphe:0.17978\n",
      "[78]\tvalidation_0-mphe:0.17971\n",
      "[79]\tvalidation_0-mphe:0.17965\n",
      "[80]\tvalidation_0-mphe:0.17960\n",
      "[81]\tvalidation_0-mphe:0.17953\n",
      "[82]\tvalidation_0-mphe:0.17948\n",
      "[83]\tvalidation_0-mphe:0.17943\n",
      "[84]\tvalidation_0-mphe:0.17938\n",
      "[85]\tvalidation_0-mphe:0.17932\n",
      "[86]\tvalidation_0-mphe:0.17927\n",
      "[87]\tvalidation_0-mphe:0.17922\n",
      "[88]\tvalidation_0-mphe:0.17917\n",
      "[89]\tvalidation_0-mphe:0.17912\n",
      "[90]\tvalidation_0-mphe:0.17907\n",
      "[91]\tvalidation_0-mphe:0.17904\n",
      "[92]\tvalidation_0-mphe:0.17899\n",
      "[93]\tvalidation_0-mphe:0.17895\n",
      "[94]\tvalidation_0-mphe:0.17890\n",
      "[95]\tvalidation_0-mphe:0.17885\n",
      "[96]\tvalidation_0-mphe:0.17881\n",
      "[97]\tvalidation_0-mphe:0.17878\n",
      "[98]\tvalidation_0-mphe:0.17873\n",
      "[99]\tvalidation_0-mphe:0.17871\n",
      "[100]\tvalidation_0-mphe:0.17868\n",
      "[101]\tvalidation_0-mphe:0.17864\n",
      "[102]\tvalidation_0-mphe:0.17860\n",
      "[103]\tvalidation_0-mphe:0.17855\n",
      "[104]\tvalidation_0-mphe:0.17853\n",
      "[105]\tvalidation_0-mphe:0.17849\n",
      "[106]\tvalidation_0-mphe:0.17845\n",
      "[107]\tvalidation_0-mphe:0.17841\n",
      "[108]\tvalidation_0-mphe:0.17837\n",
      "[109]\tvalidation_0-mphe:0.17833\n",
      "[110]\tvalidation_0-mphe:0.17829\n",
      "[111]\tvalidation_0-mphe:0.17824\n",
      "[112]\tvalidation_0-mphe:0.17821\n",
      "[113]\tvalidation_0-mphe:0.17817\n",
      "[114]\tvalidation_0-mphe:0.17815\n",
      "[115]\tvalidation_0-mphe:0.17810\n",
      "[116]\tvalidation_0-mphe:0.17805\n",
      "[117]\tvalidation_0-mphe:0.17802\n",
      "[118]\tvalidation_0-mphe:0.17798\n",
      "[119]\tvalidation_0-mphe:0.17795\n",
      "[120]\tvalidation_0-mphe:0.17791\n",
      "[121]\tvalidation_0-mphe:0.17788\n",
      "[122]\tvalidation_0-mphe:0.17784\n",
      "[123]\tvalidation_0-mphe:0.17780\n",
      "[124]\tvalidation_0-mphe:0.17775\n",
      "[125]\tvalidation_0-mphe:0.17772\n",
      "[126]\tvalidation_0-mphe:0.17769\n",
      "[127]\tvalidation_0-mphe:0.17764\n",
      "[128]\tvalidation_0-mphe:0.17760\n",
      "[129]\tvalidation_0-mphe:0.17757\n",
      "[130]\tvalidation_0-mphe:0.17754\n",
      "[131]\tvalidation_0-mphe:0.17750\n",
      "[132]\tvalidation_0-mphe:0.17747\n",
      "[133]\tvalidation_0-mphe:0.17744\n",
      "[134]\tvalidation_0-mphe:0.17741\n",
      "[135]\tvalidation_0-mphe:0.17739\n",
      "[136]\tvalidation_0-mphe:0.17735\n",
      "[137]\tvalidation_0-mphe:0.17731\n",
      "[138]\tvalidation_0-mphe:0.17728\n",
      "[139]\tvalidation_0-mphe:0.17724\n",
      "[140]\tvalidation_0-mphe:0.17720\n",
      "[141]\tvalidation_0-mphe:0.17718\n",
      "[142]\tvalidation_0-mphe:0.17716\n",
      "[143]\tvalidation_0-mphe:0.17713\n",
      "[144]\tvalidation_0-mphe:0.17711\n",
      "[145]\tvalidation_0-mphe:0.17710\n",
      "[146]\tvalidation_0-mphe:0.17707\n",
      "[147]\tvalidation_0-mphe:0.17707\n",
      "[148]\tvalidation_0-mphe:0.17704\n",
      "[149]\tvalidation_0-mphe:0.17702\n",
      "[150]\tvalidation_0-mphe:0.17698\n",
      "[151]\tvalidation_0-mphe:0.17697\n",
      "[152]\tvalidation_0-mphe:0.17694\n",
      "[153]\tvalidation_0-mphe:0.17692\n",
      "[154]\tvalidation_0-mphe:0.17689\n",
      "[155]\tvalidation_0-mphe:0.17686\n",
      "[156]\tvalidation_0-mphe:0.17683\n",
      "[157]\tvalidation_0-mphe:0.17681\n",
      "[158]\tvalidation_0-mphe:0.17680\n",
      "[159]\tvalidation_0-mphe:0.17677\n",
      "[160]\tvalidation_0-mphe:0.17675\n",
      "[161]\tvalidation_0-mphe:0.17673\n",
      "[162]\tvalidation_0-mphe:0.17671\n",
      "[163]\tvalidation_0-mphe:0.17670\n",
      "[164]\tvalidation_0-mphe:0.17668\n",
      "[165]\tvalidation_0-mphe:0.17666\n",
      "[166]\tvalidation_0-mphe:0.17666\n",
      "[167]\tvalidation_0-mphe:0.17663\n",
      "[168]\tvalidation_0-mphe:0.17661\n",
      "[169]\tvalidation_0-mphe:0.17660\n",
      "[170]\tvalidation_0-mphe:0.17658\n",
      "[171]\tvalidation_0-mphe:0.17657\n",
      "[172]\tvalidation_0-mphe:0.17655\n",
      "[173]\tvalidation_0-mphe:0.17654\n",
      "[174]\tvalidation_0-mphe:0.17653\n",
      "[175]\tvalidation_0-mphe:0.17652\n",
      "[176]\tvalidation_0-mphe:0.17646\n",
      "[177]\tvalidation_0-mphe:0.17645\n",
      "[178]\tvalidation_0-mphe:0.17643\n",
      "[179]\tvalidation_0-mphe:0.17642\n",
      "[180]\tvalidation_0-mphe:0.17640\n",
      "[181]\tvalidation_0-mphe:0.17637\n",
      "[182]\tvalidation_0-mphe:0.17635\n",
      "[183]\tvalidation_0-mphe:0.17633\n",
      "[184]\tvalidation_0-mphe:0.17634\n",
      "[185]\tvalidation_0-mphe:0.17631\n",
      "[186]\tvalidation_0-mphe:0.17628\n",
      "[187]\tvalidation_0-mphe:0.17626\n",
      "[188]\tvalidation_0-mphe:0.17625\n",
      "[189]\tvalidation_0-mphe:0.17623\n",
      "[190]\tvalidation_0-mphe:0.17621\n",
      "[191]\tvalidation_0-mphe:0.17618\n",
      "[192]\tvalidation_0-mphe:0.17615\n",
      "[193]\tvalidation_0-mphe:0.17613\n",
      "[194]\tvalidation_0-mphe:0.17612\n",
      "[195]\tvalidation_0-mphe:0.17612\n",
      "[196]\tvalidation_0-mphe:0.17612\n",
      "[197]\tvalidation_0-mphe:0.17611\n",
      "[198]\tvalidation_0-mphe:0.17610\n",
      "[199]\tvalidation_0-mphe:0.17611\n",
      "[200]\tvalidation_0-mphe:0.17610\n",
      "[201]\tvalidation_0-mphe:0.17609\n",
      "[202]\tvalidation_0-mphe:0.17607\n",
      "[203]\tvalidation_0-mphe:0.17606\n",
      "[204]\tvalidation_0-mphe:0.17604\n",
      "[205]\tvalidation_0-mphe:0.17602\n",
      "[206]\tvalidation_0-mphe:0.17600\n",
      "[207]\tvalidation_0-mphe:0.17599\n",
      "[208]\tvalidation_0-mphe:0.17598\n",
      "[209]\tvalidation_0-mphe:0.17597\n",
      "[210]\tvalidation_0-mphe:0.17597\n",
      "[211]\tvalidation_0-mphe:0.17594\n",
      "[212]\tvalidation_0-mphe:0.17593\n",
      "[213]\tvalidation_0-mphe:0.17591\n",
      "[214]\tvalidation_0-mphe:0.17590\n",
      "[215]\tvalidation_0-mphe:0.17589\n",
      "[216]\tvalidation_0-mphe:0.17589\n",
      "[217]\tvalidation_0-mphe:0.17587\n",
      "[218]\tvalidation_0-mphe:0.17586\n",
      "[219]\tvalidation_0-mphe:0.17583\n",
      "[220]\tvalidation_0-mphe:0.17583\n",
      "[221]\tvalidation_0-mphe:0.17584\n",
      "[222]\tvalidation_0-mphe:0.17583\n",
      "[223]\tvalidation_0-mphe:0.17582\n",
      "[224]\tvalidation_0-mphe:0.17582\n",
      "[225]\tvalidation_0-mphe:0.17581\n",
      "[226]\tvalidation_0-mphe:0.17579\n",
      "[227]\tvalidation_0-mphe:0.17577\n",
      "[228]\tvalidation_0-mphe:0.17577\n",
      "[229]\tvalidation_0-mphe:0.17578\n",
      "[230]\tvalidation_0-mphe:0.17577\n",
      "[231]\tvalidation_0-mphe:0.17577\n",
      "[232]\tvalidation_0-mphe:0.17576\n",
      "[233]\tvalidation_0-mphe:0.17574\n",
      "[234]\tvalidation_0-mphe:0.17574\n",
      "[235]\tvalidation_0-mphe:0.17573\n",
      "[236]\tvalidation_0-mphe:0.17571\n",
      "[237]\tvalidation_0-mphe:0.17570\n",
      "[238]\tvalidation_0-mphe:0.17570\n",
      "[239]\tvalidation_0-mphe:0.17570\n",
      "[240]\tvalidation_0-mphe:0.17570\n",
      "[241]\tvalidation_0-mphe:0.17569\n",
      "[242]\tvalidation_0-mphe:0.17569\n",
      "[243]\tvalidation_0-mphe:0.17567\n",
      "[244]\tvalidation_0-mphe:0.17567\n",
      "[245]\tvalidation_0-mphe:0.17565\n",
      "[246]\tvalidation_0-mphe:0.17565\n",
      "[247]\tvalidation_0-mphe:0.17564\n",
      "[248]\tvalidation_0-mphe:0.17563\n",
      "[249]\tvalidation_0-mphe:0.17563\n",
      "[250]\tvalidation_0-mphe:0.17562\n",
      "[251]\tvalidation_0-mphe:0.17560\n",
      "[252]\tvalidation_0-mphe:0.17560\n",
      "[253]\tvalidation_0-mphe:0.17561\n",
      "[254]\tvalidation_0-mphe:0.17559\n",
      "[255]\tvalidation_0-mphe:0.17558\n",
      "[256]\tvalidation_0-mphe:0.17558\n",
      "[257]\tvalidation_0-mphe:0.17558\n",
      "[258]\tvalidation_0-mphe:0.17557\n",
      "[259]\tvalidation_0-mphe:0.17556\n",
      "[260]\tvalidation_0-mphe:0.17555\n",
      "[261]\tvalidation_0-mphe:0.17556\n",
      "[262]\tvalidation_0-mphe:0.17555\n",
      "[263]\tvalidation_0-mphe:0.17557\n",
      "[264]\tvalidation_0-mphe:0.17556\n",
      "[265]\tvalidation_0-mphe:0.17556\n",
      "[266]\tvalidation_0-mphe:0.17555\n",
      "[267]\tvalidation_0-mphe:0.17554\n",
      "[268]\tvalidation_0-mphe:0.17554\n",
      "[269]\tvalidation_0-mphe:0.17555\n",
      "[270]\tvalidation_0-mphe:0.17554\n",
      "[271]\tvalidation_0-mphe:0.17553\n",
      "[272]\tvalidation_0-mphe:0.17553\n",
      "[273]\tvalidation_0-mphe:0.17553\n",
      "[274]\tvalidation_0-mphe:0.17554\n",
      "[275]\tvalidation_0-mphe:0.17553\n",
      "[276]\tvalidation_0-mphe:0.17553\n",
      "[277]\tvalidation_0-mphe:0.17552\n",
      "[278]\tvalidation_0-mphe:0.17551\n",
      "[279]\tvalidation_0-mphe:0.17550\n",
      "[280]\tvalidation_0-mphe:0.17549\n",
      "[281]\tvalidation_0-mphe:0.17549\n",
      "[282]\tvalidation_0-mphe:0.17549\n",
      "[283]\tvalidation_0-mphe:0.17548\n",
      "[284]\tvalidation_0-mphe:0.17549\n",
      "[285]\tvalidation_0-mphe:0.17549\n",
      "[286]\tvalidation_0-mphe:0.17548\n",
      "[287]\tvalidation_0-mphe:0.17548\n",
      "[288]\tvalidation_0-mphe:0.17548\n",
      "[289]\tvalidation_0-mphe:0.17548\n",
      "[290]\tvalidation_0-mphe:0.17548\n",
      "[291]\tvalidation_0-mphe:0.17548\n",
      "[292]\tvalidation_0-mphe:0.17550\n",
      "[293]\tvalidation_0-mphe:0.17549\n",
      "[294]\tvalidation_0-mphe:0.17550\n",
      "[295]\tvalidation_0-mphe:0.17551\n",
      "[296]\tvalidation_0-mphe:0.17550\n",
      "[297]\tvalidation_0-mphe:0.17550\n",
      "[298]\tvalidation_0-mphe:0.17551\n",
      "[299]\tvalidation_0-mphe:0.17550\n"
     ]
    },
    {
     "data": {
      "text/plain": "XGBRegressor(base_score=None, booster=None, callbacks=None,\n             colsample_bylevel=None, colsample_bynode=None,\n             colsample_bytree=None, device='cuda', early_stopping_rounds=30,\n             enable_categorical=False, eta=0.01, eval_metric=None,\n             feature_types=None, gamma=None, grow_policy=None,\n             importance_type=None, interaction_constraints=None,\n             learning_rate=None, max_bin=512, max_cat_threshold=None,\n             max_cat_to_onehot=None, max_delta_step=None, max_depth=None,\n             max_leaves=None, min_child_weight=None, missing=inf,\n             monotone_constraints=None, multi_strategy=None, n_estimators=300,\n             n_jobs=None, num_parallel_tree=None, ...)",
      "text/html": "<style>#sk-container-id-4 {color: black;background-color: white;}#sk-container-id-4 pre{padding: 0;}#sk-container-id-4 div.sk-toggleable {background-color: white;}#sk-container-id-4 label.sk-toggleable__label {cursor: pointer;display: block;width: 100%;margin-bottom: 0;padding: 0.3em;box-sizing: border-box;text-align: center;}#sk-container-id-4 label.sk-toggleable__label-arrow:before {content: \"▸\";float: left;margin-right: 0.25em;color: #696969;}#sk-container-id-4 label.sk-toggleable__label-arrow:hover:before {color: black;}#sk-container-id-4 div.sk-estimator:hover label.sk-toggleable__label-arrow:before {color: black;}#sk-container-id-4 div.sk-toggleable__content {max-height: 0;max-width: 0;overflow: hidden;text-align: left;background-color: #f0f8ff;}#sk-container-id-4 div.sk-toggleable__content pre {margin: 0.2em;color: black;border-radius: 0.25em;background-color: #f0f8ff;}#sk-container-id-4 input.sk-toggleable__control:checked~div.sk-toggleable__content {max-height: 200px;max-width: 100%;overflow: auto;}#sk-container-id-4 input.sk-toggleable__control:checked~label.sk-toggleable__label-arrow:before {content: \"▾\";}#sk-container-id-4 div.sk-estimator input.sk-toggleable__control:checked~label.sk-toggleable__label {background-color: #d4ebff;}#sk-container-id-4 div.sk-label input.sk-toggleable__control:checked~label.sk-toggleable__label {background-color: #d4ebff;}#sk-container-id-4 input.sk-hidden--visually {border: 0;clip: rect(1px 1px 1px 1px);clip: rect(1px, 1px, 1px, 1px);height: 1px;margin: -1px;overflow: hidden;padding: 0;position: absolute;width: 1px;}#sk-container-id-4 div.sk-estimator {font-family: monospace;background-color: #f0f8ff;border: 1px dotted black;border-radius: 0.25em;box-sizing: border-box;margin-bottom: 0.5em;}#sk-container-id-4 div.sk-estimator:hover {background-color: #d4ebff;}#sk-container-id-4 div.sk-parallel-item::after {content: \"\";width: 100%;border-bottom: 1px solid gray;flex-grow: 1;}#sk-container-id-4 div.sk-label:hover label.sk-toggleable__label {background-color: #d4ebff;}#sk-container-id-4 div.sk-serial::before {content: \"\";position: absolute;border-left: 1px solid gray;box-sizing: border-box;top: 0;bottom: 0;left: 50%;z-index: 0;}#sk-container-id-4 div.sk-serial {display: flex;flex-direction: column;align-items: center;background-color: white;padding-right: 0.2em;padding-left: 0.2em;position: relative;}#sk-container-id-4 div.sk-item {position: relative;z-index: 1;}#sk-container-id-4 div.sk-parallel {display: flex;align-items: stretch;justify-content: center;background-color: white;position: relative;}#sk-container-id-4 div.sk-item::before, #sk-container-id-4 div.sk-parallel-item::before {content: \"\";position: absolute;border-left: 1px solid gray;box-sizing: border-box;top: 0;bottom: 0;left: 50%;z-index: -1;}#sk-container-id-4 div.sk-parallel-item {display: flex;flex-direction: column;z-index: 1;position: relative;background-color: white;}#sk-container-id-4 div.sk-parallel-item:first-child::after {align-self: flex-end;width: 50%;}#sk-container-id-4 div.sk-parallel-item:last-child::after {align-self: flex-start;width: 50%;}#sk-container-id-4 div.sk-parallel-item:only-child::after {width: 0;}#sk-container-id-4 div.sk-dashed-wrapped {border: 1px dashed gray;margin: 0 0.4em 0.5em 0.4em;box-sizing: border-box;padding-bottom: 0.4em;background-color: white;}#sk-container-id-4 div.sk-label label {font-family: monospace;font-weight: bold;display: inline-block;line-height: 1.2em;}#sk-container-id-4 div.sk-label-container {text-align: center;}#sk-container-id-4 div.sk-container {/* jupyter's `normalize.less` sets `[hidden] { display: none; }` but bootstrap.min.css set `[hidden] { display: none !important; }` so we also need the `!important` here to be able to override the default hidden behavior on the sphinx rendered scikit-learn.org. See: https://github.com/scikit-learn/scikit-learn/issues/21755 */display: inline-block !important;position: relative;}#sk-container-id-4 div.sk-text-repr-fallback {display: none;}</style><div id=\"sk-container-id-4\" class=\"sk-top-container\"><div class=\"sk-text-repr-fallback\"><pre>XGBRegressor(base_score=None, booster=None, callbacks=None,\n             colsample_bylevel=None, colsample_bynode=None,\n             colsample_bytree=None, device=&#x27;cuda&#x27;, early_stopping_rounds=30,\n             enable_categorical=False, eta=0.01, eval_metric=None,\n             feature_types=None, gamma=None, grow_policy=None,\n             importance_type=None, interaction_constraints=None,\n             learning_rate=None, max_bin=512, max_cat_threshold=None,\n             max_cat_to_onehot=None, max_delta_step=None, max_depth=None,\n             max_leaves=None, min_child_weight=None, missing=inf,\n             monotone_constraints=None, multi_strategy=None, n_estimators=300,\n             n_jobs=None, num_parallel_tree=None, ...)</pre><b>In a Jupyter environment, please rerun this cell to show the HTML representation or trust the notebook. <br />On GitHub, the HTML representation is unable to render, please try loading this page with nbviewer.org.</b></div><div class=\"sk-container\" hidden><div class=\"sk-item\"><div class=\"sk-estimator sk-toggleable\"><input class=\"sk-toggleable__control sk-hidden--visually\" id=\"sk-estimator-id-4\" type=\"checkbox\" checked><label for=\"sk-estimator-id-4\" class=\"sk-toggleable__label sk-toggleable__label-arrow\">XGBRegressor</label><div class=\"sk-toggleable__content\"><pre>XGBRegressor(base_score=None, booster=None, callbacks=None,\n             colsample_bylevel=None, colsample_bynode=None,\n             colsample_bytree=None, device=&#x27;cuda&#x27;, early_stopping_rounds=30,\n             enable_categorical=False, eta=0.01, eval_metric=None,\n             feature_types=None, gamma=None, grow_policy=None,\n             importance_type=None, interaction_constraints=None,\n             learning_rate=None, max_bin=512, max_cat_threshold=None,\n             max_cat_to_onehot=None, max_delta_step=None, max_depth=None,\n             max_leaves=None, min_child_weight=None, missing=inf,\n             monotone_constraints=None, multi_strategy=None, n_estimators=300,\n             n_jobs=None, num_parallel_tree=None, ...)</pre></div></div></div></div></div>"
     },
     "execution_count": 197,
     "metadata": {},
     "output_type": "execute_result"
    }
   ],
   "source": [
    "import xgboost as xgb\n",
    "\n",
    "xgb_model = xgb.XGBRegressor(eta=0.01, device='cuda', objective='reg:pseudohubererror', early_stopping_rounds=30,\n",
    "                             max_bin=512, n_estimators=300, missing=np.inf)\n",
    "xgb_model.fit(train_x, train_y, eval_set=[(valid_x, valid_y)],)"
   ],
   "metadata": {
    "collapsed": false
   }
  },
  {
   "cell_type": "code",
   "execution_count": 198,
   "outputs": [
    {
     "data": {
      "text/plain": "<Figure size 640x480 with 1 Axes>",
      "image/png": "[encoded data removed]"
     },
     "metadata": {},
     "output_type": "display_data"
    },
    {
     "name": "stdout",
     "output_type": "stream",
     "text": [
      "r and p for return prediction: 0.3239455966553401 0.0\n"
     ]
    }
   ],
   "source": [
    "import scipy\n",
    "valid_pred = xgb_model.predict(valid_x)\n",
    "plt.scatter(valid_pred, valid_y)\n",
    "plt.ylabel(\"ground truth\")\n",
    "plt.xlabel(\"prediction\")\n",
    "plt.title(\"xgboost model performance\")\n",
    "plt.show()\n",
    "ret_r, ret_p = scipy.stats.pearsonr(valid_pred, valid_y)\n",
    "print(\"r and p for return prediction:\", ret_r, ret_p)"
   ],
   "metadata": {
    "collapsed": false
   }
  },
  {
   "cell_type": "code",
   "execution_count": 199,
   "outputs": [],
   "source": [
    "  # from ngboost import NGBRegressor\n",
    "\n",
    "# ngb_model = NGBRegressor(learning_rate=0.01, minibatch_frac=0.3, verbose_eval=10)\n",
    "# ngb_model.fit(train_x, train_y, X_val=valid_x, Y_val=valid_y, early_stopping_rounds=30)"
   ],
   "metadata": {
    "collapsed": false
   }
  },
  {
   "cell_type": "code",
   "execution_count": 200,
   "outputs": [],
   "source": [
    "# %matplotlib inline\n",
    "#\n",
    "# valid_pred = ngb_model.predict(valid_x)\n",
    "# plt.scatter(valid_pred, valid_y)\n",
    "# plt.ylabel(\"ground truth\")\n",
    "# plt.xlabel(\"prediction\")\n",
    "# plt.title(\"ngboost model performance\")\n",
    "# plt.show()\n",
    "# ret_r, ret_p = scipy.stats.pearsonr(valid_pred, valid_y)\n",
    "# print(\"r and p for return prediction:\", ret_r, ret_p)"
   ],
   "metadata": {
    "collapsed": false
   }
  },
  {
   "cell_type": "code",
   "execution_count": 201,
   "outputs": [],
   "source": [
    "# %matplotlib tk\n",
    "#\n",
    "# valid_pred_dist = ngb_model.pred_dist(valid_x)\n",
    "# new_valid_pred = []\n",
    "# new_valid_y = []\n",
    "# for i in range(len(valid_y)):\n",
    "#     if valid_pred_dist.loc[i] - 0.3 * valid_pred_dist.scale[i] > 0:\n",
    "#         new_valid_pred.append(valid_pred_dist.loc[i])\n",
    "#         new_valid_y.append(valid_y[i])\n",
    "#\n",
    "# plt.scatter(new_valid_pred, new_valid_y)\n",
    "# plt.ylabel(\"ground truth\")\n",
    "# plt.xlabel(\"prediction\")\n",
    "# plt.title(\"ngboost model performance\")\n",
    "# plt.show()\n",
    "# ret_r, ret_p = scipy.stats.pearsonr(new_valid_pred, new_valid_y)\n",
    "# print(\"r and p for return prediction:\", ret_r, ret_p)"
   ],
   "metadata": {
    "collapsed": false
   }
  },
  {
   "cell_type": "code",
   "execution_count": 201,
   "outputs": [],
   "source": [],
   "metadata": {
    "collapsed": false
   }
  }
 ],
 "metadata": {
  "kernelspec": {
   "display_name": "Python 3",
   "language": "python",
   "name": "python3"
  },
  "language_info": {
   "codemirror_mode": {
    "name": "ipython",
    "version": 2
   },
   "file_extension": ".py",
   "mimetype": "text/x-python",
   "name": "python",
   "nbconvert_exporter": "python",
   "pygments_lexer": "ipython2",
   "version": "2.7.6"
  }
 },
 "nbformat": 4,
 "nbformat_minor": 0
}
