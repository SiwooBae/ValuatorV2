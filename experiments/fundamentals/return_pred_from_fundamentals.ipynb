{
 "cells": [
  {
   "cell_type": "markdown",
   "source": [
    "Here, we are trying to predict the future log return distribution based on financial statements."
   ],
   "metadata": {
    "collapsed": false
   }
  },
  {
   "cell_type": "code",
   "execution_count": 13,
   "outputs": [],
   "source": [
    "import sqlite3\n",
    "import datetime\n",
    "import pandas as pd\n",
    "import matplotlib.pyplot as plt\n",
    "import numpy as np\n",
    "\n",
    "%matplotlib inline\n",
    "\n",
    "conn = sqlite3.connect('./database/valuator.db')"
   ],
   "metadata": {
    "collapsed": false
   }
  },
  {
   "cell_type": "markdown",
   "source": [
    "Adjust the following parameters to tweak the pipeline"
   ],
   "metadata": {
    "collapsed": false
   }
  },
  {
   "cell_type": "code",
   "execution_count": 14,
   "outputs": [],
   "source": [
    "param = {}  # a dict that stores all the parameter values\n",
    "\n",
    "param[\"date_begin\"] = datetime.datetime(2010, 1, 1)  # earliest of the whole data\n",
    "param[\"val_split_point\"] = datetime.datetime(2020, 1, 1)  # valid date begins with this date\n",
    "param[\"date_end\"] = datetime.datetime(2023, 12, 1)  # latest of the whole data\n",
    "\n",
    "# preprocessing steps for x (financial statements)\n",
    "param[\"TTM\"] = True  # uses trailing twelve months average data instead of raw\n",
    "param[\"adjust_price_w_CPI\"] = True  # allows adjusting prices with CPI data\n",
    "param[\"apply_asset_constraint\"] = False  # allows applying the asset constraint (asset = equity + liability)\n",
    "param[\"apply_nonnegative_constraint\"] = False  # deletes rows where their supposedly non-negative columns have negative column values\n",
    "param[\"divide_by_total_assets\"] = True  # divide the relevant columns with total assets to diminish multicolinearity\n",
    "\n",
    "param[\"prune_outlier\"] = False  # prune outlier\n",
    "param[\"outlier_quantile\"] = 0.99  # cutoff value determined by quantile. 0.99 means keep 99% of the values\n",
    "param[\"outlier_thresh\"] = 2  # rows up to this many outlier value will survive\n",
    "\n",
    "#preprocessing steps for y (close)\n",
    "param[\"adjust_using_SPY\"] = True  # use market-adjusted log returns instead of regular returns. Removes any market-induced movements\n",
    "param[\"window_length\"] = 365  # days forward to calculate mean (or std) log returns\n",
    "param[\"min_periods\"] = 120  # minimum days needed to calculate the mean (or std) log returns\n",
    "param[\"transform_to_cls\"] = False  # transforms the problem into classification problem (return > 0 or not)\n",
    "\n"
   ],
   "metadata": {
    "collapsed": false
   }
  },
  {
   "cell_type": "code",
   "execution_count": 15,
   "outputs": [],
   "source": [
    "df = pd.read_sql(\"\"\"\n",
    "SELECT * FROM bic\n",
    "WHERE symbol in\n",
    "    (SELECT symbol FROM profile_v2\n",
    "    WHERE country = \"US\"\n",
    "    AND isFund = 0\n",
    "    AND isEtf = 0\n",
    "    AND currency = \"USD\"\n",
    "    AND (exchangeShortName = \"NASDAQ\" OR exchangeShortName = \"NYSE\"))\n",
    "    AND symbol NOT LIKE '%W'\n",
    "ORDER BY symbol, date ASC\n",
    "\"\"\", con=conn)\n",
    "\n",
    "macro_df = pd.read_sql(\"\"\"\n",
    "SELECT * FROM macro_US\n",
    "\"\"\", con=conn)\n",
    "\n",
    "cursor = conn.execute(\"\"\"SELECT * FROM balance\"\"\")\n",
    "balance_columns = [description[0] for description in cursor.description]\n",
    "\n",
    "cursor = conn.execute(\"\"\"SELECT * FROM income\"\"\")\n",
    "income_columns = [description[0] for description in cursor.description]\n",
    "\n",
    "cursor = conn.execute(\"\"\"SELECT * FROM cashflow\"\"\")\n",
    "cashflow_columns = [description[0] for description in cursor.description]"
   ],
   "metadata": {
    "collapsed": false
   }
  },
  {
   "cell_type": "code",
   "execution_count": 16,
   "outputs": [],
   "source": [
    "df['fillingDate'] = pd.to_datetime(df['fillingDate'])\n",
    "df['date'] = pd.to_datetime(df['date'])\n",
    "macro_df['date'] = pd.to_datetime(macro_df['date'])\n",
    "CPI_base = macro_df[macro_df['date'] == param[\"val_split_point\"]]['CPI'].values\n",
    "macro_df['CPI'] = macro_df['CPI'] / CPI_base"
   ],
   "metadata": {
    "collapsed": false
   }
  },
  {
   "cell_type": "code",
   "execution_count": 17,
   "outputs": [],
   "source": [
    "df = df.merge(macro_df, how=\"left\", on=\"date\")\n",
    "df = df.set_index(['symbol', 'fillingDate'])\n",
    "df = df.drop(columns=['date', 'reportedCurrency'])"
   ],
   "metadata": {
    "collapsed": false
   }
  },
  {
   "cell_type": "code",
   "execution_count": 18,
   "outputs": [],
   "source": [
    "balance_ignored_features = ['goodwillAndIntangibleAssets',\n",
    "                            'totalLiabilitiesAndStockholdersEquity',\n",
    "                            'netDebt',\n",
    "                            'cashAndShortTermInvestments']\n",
    "income_ignored_features = ['grossProfitRatio',\n",
    "                           'costAndExpenses',\n",
    "                           'EBITDARatio',\n",
    "                           'operatingIncomeRatio',\n",
    "                           'incomeBeforeTaxRatio',\n",
    "                           'netIncomeRatio',\n",
    "                           'EPSDiluted',\n",
    "                           'weightedAverageShsOut',\n",
    "                           'weightedAverageShsOutDil',\n",
    "                           'interestIncome']\n",
    "cashflow_ignored_features = []  # nothing yet\n",
    "macro_ignored_features = ['realGDP', \"consumerSentiment\", \"smoothedUSRecessionProbabilities\"]"
   ],
   "metadata": {
    "collapsed": false
   }
  },
  {
   "cell_type": "code",
   "execution_count": 19,
   "outputs": [],
   "source": [
    "df = df.drop(\n",
    "    columns=balance_ignored_features + income_ignored_features + cashflow_ignored_features + macro_ignored_features)"
   ],
   "metadata": {
    "collapsed": false
   }
  },
  {
   "cell_type": "code",
   "execution_count": 20,
   "outputs": [
    {
     "name": "stdout",
     "output_type": "stream",
     "text": [
      "Index(['deferredRevenue', 'commonStock', 'cashAndCashEquivalents',\n",
      "       'minorityInterest', 'totalNonCurrentAssets', 'changeInWorkingCapital',\n",
      "       'freeCashFlow', 'accountsReceivables', 'shortTermDebt',\n",
      "       'intangibleAssets', 'capitalLeaseObligations', 'acquisitionsNet',\n",
      "       'deferrredTaxLiabilitiesNonCurrent', 'goodwill',\n",
      "       'netCashUsedForInvestingActivites', 'preferredStock', 'grossProfit',\n",
      "       'taxAssets', 'capitalExpenditure', 'accountPayables',\n",
      "       'totalCurrentLiabilities', 'cashAtEndOfPeriod',\n",
      "       'totalStockholdersEquity', 'operatingIncome', 'totalDebt',\n",
      "       'netCashProvidedByOperatingActivites', 'netChangeInCash', 'EBITDA',\n",
      "       'revenue', 'salesMaturitiesOfInvestments', 'deferredRevenueNonCurrent',\n",
      "       'totalLiabilities', 'retainedEarnings', 'stockBasedCompensation',\n",
      "       'longTermInvestments', 'shortTermInvestments', 'commonStockRepurchased',\n",
      "       'purchasesOfInvestments', 'totalCurrentAssets', 'dividendsPaid',\n",
      "       'costOfRevenue', 'SellingGeneralAndAdministrativeExpenses',\n",
      "       'taxPayables', 'operatingCashFlow', 'totalNonCurrentLiabilities',\n",
      "       'SellingAndMarketingExpenses', 'deferredIncomeTax', 'incomeTaxExpense',\n",
      "       'cashAtBeginningOfPeriod', 'debtRepayment',\n",
      "       'GeneralAndAdministrativeExpenses',\n",
      "       'investmentsInPropertyPlantAndEquipment',\n",
      "       'netCashUsedProvidedByFinancingActivities', 'totalInvestments',\n",
      "       'operatingExpenses', 'commonStockIssued', 'totalAssets',\n",
      "       'propertyPlantEquipmentNet', 'incomeBeforeTax',\n",
      "       'effectOfForexChangesOnCash', 'ResearchAndDevelopmentExpenses',\n",
      "       'interestExpense', 'netReceivables', 'EPS', 'longTermDebt', 'CPI',\n",
      "       'federalFunds'],\n",
      "      dtype='object')\n"
     ]
    }
   ],
   "source": [
    "other_dropped_columns = []\n",
    "for column in df.columns:\n",
    "    if \"other\" in str(column).lower() or \"1\" in str(column).lower():\n",
    "        other_dropped_columns.append(column)\n",
    "df = df.drop(columns=other_dropped_columns)\n",
    "print(df.columns)"
   ],
   "metadata": {
    "collapsed": false
   }
  },
  {
   "cell_type": "markdown",
   "source": [
    "Adjust price level using CPI"
   ],
   "metadata": {
    "collapsed": false
   }
  },
  {
   "cell_type": "code",
   "execution_count": 21,
   "outputs": [],
   "source": [
    "if param[\"adjust_price_w_CPI\"]:\n",
    "    df['federalFunds'] = df['federalFunds'] * df['CPI']\n",
    "    df = df.divide(df['CPI'], axis=0)\n",
    "df = df.drop(columns='CPI')"
   ],
   "metadata": {
    "collapsed": false
   }
  },
  {
   "cell_type": "markdown",
   "source": [
    "Visualization: the following code reorders columns so that they are grouped by their financial statement types(balance/income/cashflow) for better visualization"
   ],
   "metadata": {
    "collapsed": false
   }
  },
  {
   "cell_type": "code",
   "execution_count": 22,
   "outputs": [],
   "source": [
    "def reorder_dataframe(df, column_order):\n",
    "    \"\"\"\n",
    "    Reorders a DataFrame based on a given list of column names.\n",
    "\n",
    "    :param df: pandas DataFrame\n",
    "    :param column_order: List of column names to order the DataFrame by\n",
    "    :return: Reordered DataFrame\n",
    "    \"\"\"\n",
    "    # Remove duplicates while preserving order\n",
    "    seen = set()\n",
    "    unique_column_order = [col for col in column_order if col not in seen and not seen.add(col)]\n",
    "\n",
    "    # Filter out columns that are not in the DataFrame\n",
    "    valid_columns = [col for col in unique_column_order if col in df.columns]\n",
    "\n",
    "    extra_columns = [col for col in df.columns if col not in valid_columns]\n",
    "\n",
    "    # Reorder the DataFrame\n",
    "    reordered_df = df[valid_columns + extra_columns]\n",
    "\n",
    "    return reordered_df"
   ],
   "metadata": {
    "collapsed": false
   }
  },
  {
   "cell_type": "code",
   "execution_count": 23,
   "outputs": [],
   "source": [
    "df = reorder_dataframe(df, balance_columns + income_columns + cashflow_columns)"
   ],
   "metadata": {
    "collapsed": false
   }
  },
  {
   "cell_type": "code",
   "execution_count": 24,
   "outputs": [],
   "source": [
    "# TTM script\n",
    "if param[\"TTM\"]:\n",
    "    df_TTM = df.groupby(level=0).rolling(4, min_periods=4).mean().droplevel(0)\n",
    "    df = df_TTM  # I know this one is useless, but I felt like adding this"
   ],
   "metadata": {
    "collapsed": false
   }
  },
  {
   "cell_type": "markdown",
   "source": [
    "drop rows with nulls"
   ],
   "metadata": {
    "collapsed": false
   }
  },
  {
   "cell_type": "code",
   "execution_count": 25,
   "outputs": [
    {
     "name": "stdout",
     "output_type": "stream",
     "text": [
      "cashAndCashEquivalents       0\n",
      "shortTermInvestments         0\n",
      "netReceivables               0\n",
      "totalCurrentAssets           0\n",
      "propertyPlantEquipmentNet    0\n",
      "                            ..\n",
      "cashAtBeginningOfPeriod      0\n",
      "operatingCashFlow            0\n",
      "capitalExpenditure           0\n",
      "freeCashFlow                 0\n",
      "federalFunds                 0\n",
      "Length: 66, dtype: int64\n"
     ]
    }
   ],
   "source": [
    "df = df.dropna(axis=0, how=\"any\")\n",
    "print(df.isna().sum())"
   ],
   "metadata": {
    "collapsed": false
   }
  },
  {
   "cell_type": "markdown",
   "source": [
    "Preprocessing: removes any rows that do not satisfy the asset constraint\n",
    "asset constraint:\n",
    "equity + liability = asset\n",
    "current asset + noncurrent asset = total asset"
   ],
   "metadata": {
    "collapsed": false
   }
  },
  {
   "cell_type": "code",
   "execution_count": 26,
   "outputs": [],
   "source": [
    "if param[\"apply_asset_constraint\"]:\n",
    "    asset_current_mask = np.abs((df['totalCurrentAssets'] + df['totalNonCurrentAssets']) / df['totalAssets']) < 1.001\n",
    "    asset_total_mask = np.abs((df['totalStockholdersEquity'] + df['totalLiabilities']) / df['totalAssets']) < 1.001\n",
    "    mask = np.logical_and(asset_total_mask, asset_current_mask)\n",
    "    df = df[mask]"
   ],
   "metadata": {
    "collapsed": false
   }
  },
  {
   "cell_type": "markdown",
   "source": [
    "Preprocessing: The following code removes any rows with invalid data--for example, total asset shouldn't be negative. Done by deleting rows where nonnegative constriant columns have negative values. the nonnegative constraint columns are chosen by finding columns that only have less than 1% of negative values."
   ],
   "metadata": {
    "collapsed": false
   }
  },
  {
   "cell_type": "code",
   "execution_count": 27,
   "outputs": [],
   "source": [
    "if param[\"apply_nonnegative_constraint\"]:\n",
    "    nonnegative_constraint_columns = []\n",
    "    for column in df.columns:\n",
    "        if df[column].min() < 0 and np.sum(df[column] < 0) < 0.01 * len(df):\n",
    "            print(column)\n",
    "            print(np.sum(df[column] < 0), \"/\", len(df))\n",
    "            nonnegative_constraint_columns.append(column)\n",
    "\n",
    "    for column in nonnegative_constraint_columns:\n",
    "        df = df[df[column] >= 0]"
   ],
   "metadata": {
    "collapsed": false
   }
  },
  {
   "cell_type": "markdown",
   "source": [
    "Preprocessing: divides all money-related columns with total asset and log transforms total asset."
   ],
   "metadata": {
    "collapsed": false
   }
  },
  {
   "cell_type": "code",
   "execution_count": 28,
   "outputs": [],
   "source": [
    "if param[\"divide_by_total_assets\"]:\n",
    "    df = df[df['totalAssets'] > 0]\n",
    "    unaffected_cols = ['federalFunds', 'totalAssets']\n",
    "    affected_cols = [col for col in df.columns if col not in unaffected_cols]\n",
    "    df[affected_cols] = df[affected_cols].div(df['totalAssets'], axis=0)\n",
    "    df['totalAssets'] = np.log(df['totalAssets'])"
   ],
   "metadata": {
    "collapsed": false
   }
  },
  {
   "cell_type": "markdown",
   "source": [
    "Visualization: check correlation matrix to see correlations between features"
   ],
   "metadata": {
    "collapsed": false
   }
  },
  {
   "cell_type": "code",
   "execution_count": 29,
   "outputs": [],
   "source": [
    "def find_correlated_pairs(df, threshold=0.5):\n",
    "    \"\"\"\n",
    "    Finds all pairs of columns in a DataFrame that have a correlation\n",
    "    greater than a specified threshold or less than the negative of that threshold.\n",
    "\n",
    "    :param df: pandas DataFrame\n",
    "    :param threshold: correlation threshold\n",
    "    :return: list of tuples with the pairs of correlated columns\n",
    "    \"\"\"\n",
    "    correlated_pairs = []\n",
    "\n",
    "    # Calculate the correlation matrix\n",
    "    corr_matrix = df.corr()\n",
    "\n",
    "    # Iterate over each element in the correlation matrix\n",
    "    for i in range(len(corr_matrix.columns)):\n",
    "        for j in range(i):\n",
    "            if abs(corr_matrix.iloc[i, j]) > threshold:\n",
    "                correlated_pairs.append((corr_matrix.columns[i], corr_matrix.columns[j]))\n",
    "\n",
    "    return correlated_pairs"
   ],
   "metadata": {
    "collapsed": false
   }
  },
  {
   "cell_type": "code",
   "execution_count": 30,
   "outputs": [],
   "source": [
    "import networkx as nx\n",
    "\n",
    "\n",
    "def plot_correlation_network(df, threshold=0.5):\n",
    "    \"\"\"\n",
    "    Plots a 2D correlation network from the correlation matrix of a DataFrame.\n",
    "\n",
    "    :param df: pandas DataFrame\n",
    "    :param threshold: correlation threshold for including an edge in the network\n",
    "    \"\"\"\n",
    "    # Calculate the correlation matrix\n",
    "    corr_matrix = df.corr()\n",
    "\n",
    "    # Create a graph\n",
    "    G = nx.Graph()\n",
    "\n",
    "    # Add nodes\n",
    "    for column in corr_matrix.columns:\n",
    "        G.add_node(column)\n",
    "\n",
    "    # Add edges\n",
    "    for i in range(len(corr_matrix.columns)):\n",
    "        for j in range(i):\n",
    "            if abs(corr_matrix.iloc[i, j]) > threshold:\n",
    "                G.add_edge(corr_matrix.columns[i], corr_matrix.columns[j], weight=corr_matrix.iloc[i, j])\n",
    "\n",
    "    # Draw the network\n",
    "    pos = nx.spring_layout(G)  # positions for all nodes\n",
    "    edges = G.edges(data=True)\n",
    "    nx.draw(G, pos, with_labels=True, node_size=700, node_color=\"skyblue\", alpha=0.7,\n",
    "            width=[(1 + abs(d['weight'])) * 0.5 for u, v, d in edges],\n",
    "            edge_color=[(\"red\" if d['weight'] < 0 else \"green\") for u, v, d in edges])\n",
    "\n",
    "    plt.title(\"Correlation Network\")\n",
    "    plt.show()"
   ],
   "metadata": {
    "collapsed": false
   }
  },
  {
   "cell_type": "code",
   "execution_count": 31,
   "outputs": [],
   "source": [
    "# corr_pairs = find_correlated_pairs(df)\n",
    "# plot_correlation_network(df, threshold=0.3)"
   ],
   "metadata": {
    "collapsed": false
   }
  },
  {
   "cell_type": "markdown",
   "source": [
    "visualization: see histogram"
   ],
   "metadata": {
    "collapsed": false
   }
  },
  {
   "cell_type": "code",
   "execution_count": 32,
   "outputs": [],
   "source": [
    "def plot_histogram_with_pruning(dataframe, column, q=0.99):\n",
    "    \"\"\"\n",
    "    Plots a histogram of a DataFrame column while pruning out the top and bottom 1% of the distribution.\n",
    "\n",
    "    :param dataframe: pandas DataFrame\n",
    "    :param column: column name (string) whose distribution to plot\n",
    "    :param q: quantile\n",
    "    \"\"\"\n",
    "    # Ensure the column exists in the DataFrame\n",
    "    if column not in dataframe.columns:\n",
    "        print(f\"Column '{column}' not found in DataFrame.\")\n",
    "        return\n",
    "\n",
    "    # Prune the top and bottom of the data\n",
    "\n",
    "    if df[column].min() >= 0:\n",
    "        upper_bound = dataframe[column].quantile(q)\n",
    "        pruned_data = dataframe[column][dataframe[column] <= upper_bound]\n",
    "    else:\n",
    "        lower_bound = dataframe[column].quantile(1 - q)\n",
    "        upper_bound = dataframe[column].quantile(q)\n",
    "        pruned_data = dataframe[column][(dataframe[column] >= lower_bound) & (dataframe[column] <= upper_bound)]\n",
    "\n",
    "    # Plot histogram\n",
    "    plt.hist(pruned_data, bins=100, log=True)\n",
    "    plt.title(f\"Histogram of '{column}' ({(1 - q) * 100}% Pruned)\")\n",
    "    plt.xlabel(column)\n",
    "    plt.ylabel('Frequency')\n",
    "    plt.show()\n"
   ],
   "metadata": {
    "collapsed": false
   }
  },
  {
   "cell_type": "code",
   "execution_count": 33,
   "outputs": [],
   "source": [
    "# for col in df.columns:\n",
    "#     plot_histogram_with_pruning(df, col, q=0.99)"
   ],
   "metadata": {
    "collapsed": false
   }
  },
  {
   "cell_type": "markdown",
   "source": [
    "Load price data from the DB"
   ],
   "metadata": {
    "collapsed": false
   }
  },
  {
   "cell_type": "code",
   "execution_count": 34,
   "outputs": [],
   "source": [
    "close_prices = pd.read_sql(f\"\"\"\n",
    "SELECT date, symbol, close\n",
    "FROM cv\n",
    "WHERE symbol in (SELECT symbol FROM profile_v2\n",
    "    WHERE country = \"US\"\n",
    "    AND isFund = 0\n",
    "    AND isEtf = 0\n",
    "    AND currency = \"USD\"\n",
    "    AND (exchangeShortName = \"NASDAQ\" OR exchangeShortName = \"NYSE\"))\n",
    "    AND date BETWEEN date('{param[\"date_begin\"].strftime(\"%Y-%m-%d\")}') AND date('{param[\"date_end\"].strftime(\"%Y-%m-%d\")}')\n",
    "\"\"\", con=conn, index_col=[\"symbol\", \"date\"])"
   ],
   "metadata": {
    "collapsed": false
   }
  },
  {
   "cell_type": "markdown",
   "source": [
    "Unstack it"
   ],
   "metadata": {
    "collapsed": false
   }
  },
  {
   "cell_type": "code",
   "execution_count": 35,
   "outputs": [],
   "source": [
    "close_prices = close_prices['close'].unstack(level=0)"
   ],
   "metadata": {
    "collapsed": false
   }
  },
  {
   "cell_type": "code",
   "execution_count": 36,
   "outputs": [],
   "source": [
    "spy = pd.read_sql(f\"\"\"\n",
    "SELECT date, symbol, close\n",
    "FROM cv\n",
    "WHERE symbol = \"SPY\" AND date BETWEEN date('{param[\"date_begin\"].strftime(\"%Y-%m-%d\")}') AND date('{param[\"date_end\"].strftime(\"%Y-%m-%d\")}')\n",
    "\"\"\", con=conn, index_col=[\"symbol\", \"date\"])"
   ],
   "metadata": {
    "collapsed": false
   }
  },
  {
   "cell_type": "code",
   "execution_count": 37,
   "outputs": [],
   "source": [
    "spy = spy[\"close\"].unstack(level=0)"
   ],
   "metadata": {
    "collapsed": false
   }
  },
  {
   "cell_type": "code",
   "execution_count": 38,
   "outputs": [],
   "source": [
    "close_prices = pd.merge(close_prices, spy, \"left\", on='date')"
   ],
   "metadata": {
    "collapsed": false
   }
  },
  {
   "cell_type": "code",
   "execution_count": 39,
   "outputs": [],
   "source": [
    "close_prices[\n",
    "    close_prices <= 0] = pd.NA  # turn any nonpositive numbers to Null values. We can't have negative price in stocks!\n",
    "close_prices = close_prices.dropna(how='all', axis=1)  # now drop all symbols that have no values at all\n",
    "close_prices = np.log(close_prices)  # apply log to every value\n",
    "close_prices = close_prices.diff()  # calculate difference"
   ],
   "metadata": {
    "collapsed": false
   }
  },
  {
   "cell_type": "markdown",
   "source": [
    "Parameter: log return -> market adjusted log return"
   ],
   "metadata": {
    "collapsed": false
   }
  },
  {
   "cell_type": "code",
   "execution_count": 40,
   "outputs": [],
   "source": [
    "if param[\"adjust_using_SPY\"]:\n",
    "    close_prices = close_prices.subtract(close_prices[\"SPY\"], axis=0)"
   ],
   "metadata": {
    "collapsed": false
   }
  },
  {
   "cell_type": "markdown",
   "source": [
    "Parameter: forward window=365(days)"
   ],
   "metadata": {
    "collapsed": false
   }
  },
  {
   "cell_type": "code",
   "execution_count": 41,
   "outputs": [],
   "source": [
    "indexer = pd.api.indexers.FixedForwardWindowIndexer(window_size=param[\"window_length\"])\n",
    "close_prices_mean = close_prices.rolling(window=indexer,\n",
    "                                         min_periods=param[\"min_periods\"]).mean()\n",
    "# survivorship bias warning, this may nullify all delisted companies\n",
    "close_prices_mean = close_prices_mean * 365  # annualize the data"
   ],
   "metadata": {
    "collapsed": false
   }
  },
  {
   "cell_type": "code",
   "execution_count": 42,
   "outputs": [],
   "source": [
    "close_prices_mean.index = pd.to_datetime(close_prices_mean.index)\n",
    "close_prices = close_prices_mean.stack()\n",
    "close_prices.name = \"close\""
   ],
   "metadata": {
    "collapsed": false
   }
  },
  {
   "cell_type": "code",
   "execution_count": 43,
   "outputs": [],
   "source": [
    "df_ready = df.merge(close_prices, how='inner', left_index=True, right_on=['symbol', 'date'])\n",
    "df_ready = df_ready.dropna(axis=0, how=\"any\")\n",
    "df_ready = df_ready.swaplevel(0, 1, axis=0)"
   ],
   "metadata": {
    "collapsed": false
   }
  },
  {
   "cell_type": "markdown",
   "source": [
    "Parameter: classification, or regression?"
   ],
   "metadata": {
    "collapsed": false
   }
  },
  {
   "cell_type": "code",
   "execution_count": 44,
   "outputs": [],
   "source": [
    "if param[\"transform_to_cls\"]:\n",
    "    df_ready[\"close\"] = df_ready[\"close\"] >= 0"
   ],
   "metadata": {
    "collapsed": false
   }
  },
  {
   "cell_type": "code",
   "execution_count": 45,
   "outputs": [],
   "source": [
    "train_mask = df_ready.index.get_level_values('date') < (\n",
    "            param[\"val_split_point\"] - datetime.timedelta(days=param[\"window_length\"]))\n",
    "valid_mask = df_ready.index.get_level_values('date') > param[\"val_split_point\"]\n",
    "train = df_ready.loc[train_mask]\n",
    "valid = df_ready.loc[valid_mask]"
   ],
   "metadata": {
    "collapsed": false
   }
  },
  {
   "cell_type": "markdown",
   "source": [
    "Preprocessing: outlier pruning"
   ],
   "metadata": {
    "collapsed": false
   }
  },
  {
   "cell_type": "code",
   "execution_count": 46,
   "outputs": [],
   "source": [
    "class OutlierPruner:\n",
    "    def __init__(self):\n",
    "        self.column_quantiles = []\n",
    "\n",
    "    def fit(self, dataframe, exclude_columns, q=0.99):\n",
    "        for col in dataframe.columns:\n",
    "            if col not in exclude_columns:\n",
    "                if dataframe[col].min() >= 0:\n",
    "                    lower_bound = -1\n",
    "                    upper_bound = dataframe[col].quantile(q)\n",
    "                else:\n",
    "                    lower_bound = dataframe[col].quantile(1 - q)\n",
    "                    upper_bound = dataframe[col].quantile(q)\n",
    "                self.column_quantiles.append((col, lower_bound, upper_bound))\n",
    "\n",
    "    def transform(self, dataframe, thresh=0):\n",
    "        counter = 0\n",
    "        m_total = pd.Series(0, index=dataframe.index, name=\"total mask\")\n",
    "        for col, lower, upper in self.column_quantiles:\n",
    "            m_total += ((dataframe[col] >= lower) & (dataframe[col] <= upper))\n",
    "            counter += 1\n",
    "        mask = m_total >= counter - thresh\n",
    "        return dataframe[mask]"
   ],
   "metadata": {
    "collapsed": false
   }
  },
  {
   "cell_type": "code",
   "execution_count": 47,
   "outputs": [],
   "source": [
    "if param[\"prune_outlier\"]:\n",
    "    pruner = OutlierPruner()\n",
    "\n",
    "    print(\"shape before pruning:\", train.shape, valid.shape)\n",
    "    pruner.fit(train, ['federalFunds', 'close'], q=param[\"outlier_quantile\"])\n",
    "    train = pruner.transform(train, thresh=param[\"outlier_thresh\"])\n",
    "    valid = pruner.transform(valid, thresh=param[\"outlier_thresh\"])\n",
    "    print(\"shape after pruning:\", train.shape, valid.shape)"
   ],
   "metadata": {
    "collapsed": false
   }
  },
  {
   "cell_type": "code",
   "execution_count": 48,
   "outputs": [],
   "source": [
    "train_x, train_y = train.drop(columns=\"close\").to_numpy(), train[\"close\"].to_numpy()\n",
    "valid_x, valid_y = valid.drop(columns=\"close\").to_numpy(), valid[\"close\"].to_numpy()"
   ],
   "metadata": {
    "collapsed": false
   }
  },
  {
   "cell_type": "code",
   "execution_count": 49,
   "outputs": [
    {
     "name": "stdout",
     "output_type": "stream",
     "text": [
      "[0]\tvalidation_0-mphe:0.20351\n",
      "[1]\tvalidation_0-mphe:0.20335\n",
      "[2]\tvalidation_0-mphe:0.20318\n",
      "[3]\tvalidation_0-mphe:0.20302\n",
      "[4]\tvalidation_0-mphe:0.20286\n",
      "[5]\tvalidation_0-mphe:0.20272\n",
      "[6]\tvalidation_0-mphe:0.20257\n",
      "[7]\tvalidation_0-mphe:0.20244\n",
      "[8]\tvalidation_0-mphe:0.20231\n",
      "[9]\tvalidation_0-mphe:0.20219\n",
      "[10]\tvalidation_0-mphe:0.20205\n",
      "[11]\tvalidation_0-mphe:0.20192\n",
      "[12]\tvalidation_0-mphe:0.20178\n",
      "[13]\tvalidation_0-mphe:0.20166\n",
      "[14]\tvalidation_0-mphe:0.20156\n",
      "[15]\tvalidation_0-mphe:0.20145\n",
      "[16]\tvalidation_0-mphe:0.20135\n",
      "[17]\tvalidation_0-mphe:0.20124\n",
      "[18]\tvalidation_0-mphe:0.20114\n",
      "[19]\tvalidation_0-mphe:0.20102\n",
      "[20]\tvalidation_0-mphe:0.20093\n",
      "[21]\tvalidation_0-mphe:0.20083\n",
      "[22]\tvalidation_0-mphe:0.20074\n",
      "[23]\tvalidation_0-mphe:0.20065\n",
      "[24]\tvalidation_0-mphe:0.20056\n",
      "[25]\tvalidation_0-mphe:0.20049\n",
      "[26]\tvalidation_0-mphe:0.20040\n",
      "[27]\tvalidation_0-mphe:0.20032\n",
      "[28]\tvalidation_0-mphe:0.20024\n",
      "[29]\tvalidation_0-mphe:0.20015\n",
      "[30]\tvalidation_0-mphe:0.20008\n",
      "[31]\tvalidation_0-mphe:0.20001\n",
      "[32]\tvalidation_0-mphe:0.19992\n",
      "[33]\tvalidation_0-mphe:0.19984\n",
      "[34]\tvalidation_0-mphe:0.19977\n",
      "[35]\tvalidation_0-mphe:0.19968\n",
      "[36]\tvalidation_0-mphe:0.19963\n",
      "[37]\tvalidation_0-mphe:0.19957\n",
      "[38]\tvalidation_0-mphe:0.19947\n",
      "[39]\tvalidation_0-mphe:0.19941\n",
      "[40]\tvalidation_0-mphe:0.19934\n",
      "[41]\tvalidation_0-mphe:0.19927\n",
      "[42]\tvalidation_0-mphe:0.19920\n",
      "[43]\tvalidation_0-mphe:0.19914\n",
      "[44]\tvalidation_0-mphe:0.19908\n",
      "[45]\tvalidation_0-mphe:0.19903\n",
      "[46]\tvalidation_0-mphe:0.19894\n",
      "[47]\tvalidation_0-mphe:0.19889\n",
      "[48]\tvalidation_0-mphe:0.19883\n",
      "[49]\tvalidation_0-mphe:0.19877\n",
      "[50]\tvalidation_0-mphe:0.19874\n",
      "[51]\tvalidation_0-mphe:0.19870\n",
      "[52]\tvalidation_0-mphe:0.19867\n",
      "[53]\tvalidation_0-mphe:0.19860\n",
      "[54]\tvalidation_0-mphe:0.19857\n",
      "[55]\tvalidation_0-mphe:0.19850\n",
      "[56]\tvalidation_0-mphe:0.19846\n",
      "[57]\tvalidation_0-mphe:0.19841\n",
      "[58]\tvalidation_0-mphe:0.19837\n",
      "[59]\tvalidation_0-mphe:0.19834\n",
      "[60]\tvalidation_0-mphe:0.19830\n",
      "[61]\tvalidation_0-mphe:0.19826\n",
      "[62]\tvalidation_0-mphe:0.19823\n",
      "[63]\tvalidation_0-mphe:0.19820\n",
      "[64]\tvalidation_0-mphe:0.19816\n",
      "[65]\tvalidation_0-mphe:0.19811\n",
      "[66]\tvalidation_0-mphe:0.19808\n",
      "[67]\tvalidation_0-mphe:0.19803\n",
      "[68]\tvalidation_0-mphe:0.19800\n",
      "[69]\tvalidation_0-mphe:0.19797\n",
      "[70]\tvalidation_0-mphe:0.19793\n",
      "[71]\tvalidation_0-mphe:0.19791\n",
      "[72]\tvalidation_0-mphe:0.19789\n",
      "[73]\tvalidation_0-mphe:0.19787\n",
      "[74]\tvalidation_0-mphe:0.19784\n",
      "[75]\tvalidation_0-mphe:0.19781\n",
      "[76]\tvalidation_0-mphe:0.19779\n",
      "[77]\tvalidation_0-mphe:0.19775\n",
      "[78]\tvalidation_0-mphe:0.19769\n",
      "[79]\tvalidation_0-mphe:0.19766\n",
      "[80]\tvalidation_0-mphe:0.19763\n",
      "[81]\tvalidation_0-mphe:0.19759\n",
      "[82]\tvalidation_0-mphe:0.19755\n",
      "[83]\tvalidation_0-mphe:0.19752\n",
      "[84]\tvalidation_0-mphe:0.19750\n",
      "[85]\tvalidation_0-mphe:0.19749\n",
      "[86]\tvalidation_0-mphe:0.19747\n",
      "[87]\tvalidation_0-mphe:0.19746\n",
      "[88]\tvalidation_0-mphe:0.19743\n",
      "[89]\tvalidation_0-mphe:0.19742\n",
      "[90]\tvalidation_0-mphe:0.19740\n",
      "[91]\tvalidation_0-mphe:0.19738\n",
      "[92]\tvalidation_0-mphe:0.19736\n",
      "[93]\tvalidation_0-mphe:0.19732\n",
      "[94]\tvalidation_0-mphe:0.19730\n",
      "[95]\tvalidation_0-mphe:0.19727\n",
      "[96]\tvalidation_0-mphe:0.19729\n",
      "[97]\tvalidation_0-mphe:0.19728\n",
      "[98]\tvalidation_0-mphe:0.19725\n",
      "[99]\tvalidation_0-mphe:0.19723\n",
      "[100]\tvalidation_0-mphe:0.19721\n",
      "[101]\tvalidation_0-mphe:0.19719\n",
      "[102]\tvalidation_0-mphe:0.19718\n",
      "[103]\tvalidation_0-mphe:0.19714\n",
      "[104]\tvalidation_0-mphe:0.19713\n",
      "[105]\tvalidation_0-mphe:0.19712\n",
      "[106]\tvalidation_0-mphe:0.19711\n",
      "[107]\tvalidation_0-mphe:0.19708\n",
      "[108]\tvalidation_0-mphe:0.19710\n",
      "[109]\tvalidation_0-mphe:0.19711\n",
      "[110]\tvalidation_0-mphe:0.19710\n",
      "[111]\tvalidation_0-mphe:0.19710\n",
      "[112]\tvalidation_0-mphe:0.19707\n",
      "[113]\tvalidation_0-mphe:0.19706\n",
      "[114]\tvalidation_0-mphe:0.19703\n",
      "[115]\tvalidation_0-mphe:0.19702\n",
      "[116]\tvalidation_0-mphe:0.19701\n",
      "[117]\tvalidation_0-mphe:0.19701\n",
      "[118]\tvalidation_0-mphe:0.19701\n",
      "[119]\tvalidation_0-mphe:0.19701\n",
      "[120]\tvalidation_0-mphe:0.19700\n",
      "[121]\tvalidation_0-mphe:0.19702\n",
      "[122]\tvalidation_0-mphe:0.19698\n",
      "[123]\tvalidation_0-mphe:0.19696\n",
      "[124]\tvalidation_0-mphe:0.19695\n",
      "[125]\tvalidation_0-mphe:0.19695\n",
      "[126]\tvalidation_0-mphe:0.19691\n",
      "[127]\tvalidation_0-mphe:0.19691\n",
      "[128]\tvalidation_0-mphe:0.19689\n",
      "[129]\tvalidation_0-mphe:0.19686\n",
      "[130]\tvalidation_0-mphe:0.19683\n",
      "[131]\tvalidation_0-mphe:0.19681\n",
      "[132]\tvalidation_0-mphe:0.19679\n",
      "[133]\tvalidation_0-mphe:0.19678\n",
      "[134]\tvalidation_0-mphe:0.19676\n",
      "[135]\tvalidation_0-mphe:0.19676\n",
      "[136]\tvalidation_0-mphe:0.19675\n",
      "[137]\tvalidation_0-mphe:0.19676\n",
      "[138]\tvalidation_0-mphe:0.19675\n",
      "[139]\tvalidation_0-mphe:0.19675\n",
      "[140]\tvalidation_0-mphe:0.19674\n",
      "[141]\tvalidation_0-mphe:0.19673\n",
      "[142]\tvalidation_0-mphe:0.19671\n",
      "[143]\tvalidation_0-mphe:0.19670\n",
      "[144]\tvalidation_0-mphe:0.19669\n",
      "[145]\tvalidation_0-mphe:0.19666\n",
      "[146]\tvalidation_0-mphe:0.19664\n",
      "[147]\tvalidation_0-mphe:0.19661\n",
      "[148]\tvalidation_0-mphe:0.19664\n",
      "[149]\tvalidation_0-mphe:0.19662\n",
      "[150]\tvalidation_0-mphe:0.19661\n",
      "[151]\tvalidation_0-mphe:0.19661\n",
      "[152]\tvalidation_0-mphe:0.19657\n",
      "[153]\tvalidation_0-mphe:0.19655\n",
      "[154]\tvalidation_0-mphe:0.19655\n",
      "[155]\tvalidation_0-mphe:0.19652\n",
      "[156]\tvalidation_0-mphe:0.19652\n",
      "[157]\tvalidation_0-mphe:0.19649\n",
      "[158]\tvalidation_0-mphe:0.19651\n",
      "[159]\tvalidation_0-mphe:0.19648\n",
      "[160]\tvalidation_0-mphe:0.19646\n",
      "[161]\tvalidation_0-mphe:0.19646\n",
      "[162]\tvalidation_0-mphe:0.19644\n",
      "[163]\tvalidation_0-mphe:0.19643\n",
      "[164]\tvalidation_0-mphe:0.19640\n",
      "[165]\tvalidation_0-mphe:0.19640\n",
      "[166]\tvalidation_0-mphe:0.19640\n",
      "[167]\tvalidation_0-mphe:0.19639\n",
      "[168]\tvalidation_0-mphe:0.19640\n",
      "[169]\tvalidation_0-mphe:0.19640\n",
      "[170]\tvalidation_0-mphe:0.19637\n",
      "[171]\tvalidation_0-mphe:0.19637\n",
      "[172]\tvalidation_0-mphe:0.19640\n",
      "[173]\tvalidation_0-mphe:0.19639\n",
      "[174]\tvalidation_0-mphe:0.19638\n",
      "[175]\tvalidation_0-mphe:0.19637\n",
      "[176]\tvalidation_0-mphe:0.19635\n",
      "[177]\tvalidation_0-mphe:0.19633\n",
      "[178]\tvalidation_0-mphe:0.19632\n",
      "[179]\tvalidation_0-mphe:0.19635\n",
      "[180]\tvalidation_0-mphe:0.19633\n",
      "[181]\tvalidation_0-mphe:0.19632\n",
      "[182]\tvalidation_0-mphe:0.19630\n",
      "[183]\tvalidation_0-mphe:0.19630\n",
      "[184]\tvalidation_0-mphe:0.19633\n",
      "[185]\tvalidation_0-mphe:0.19632\n",
      "[186]\tvalidation_0-mphe:0.19634\n",
      "[187]\tvalidation_0-mphe:0.19633\n",
      "[188]\tvalidation_0-mphe:0.19632\n",
      "[189]\tvalidation_0-mphe:0.19635\n",
      "[190]\tvalidation_0-mphe:0.19634\n",
      "[191]\tvalidation_0-mphe:0.19633\n",
      "[192]\tvalidation_0-mphe:0.19631\n",
      "[193]\tvalidation_0-mphe:0.19630\n",
      "[194]\tvalidation_0-mphe:0.19630\n",
      "[195]\tvalidation_0-mphe:0.19629\n",
      "[196]\tvalidation_0-mphe:0.19627\n",
      "[197]\tvalidation_0-mphe:0.19628\n",
      "[198]\tvalidation_0-mphe:0.19628\n",
      "[199]\tvalidation_0-mphe:0.19627\n",
      "[200]\tvalidation_0-mphe:0.19626\n",
      "[201]\tvalidation_0-mphe:0.19628\n",
      "[202]\tvalidation_0-mphe:0.19628\n",
      "[203]\tvalidation_0-mphe:0.19629\n",
      "[204]\tvalidation_0-mphe:0.19628\n",
      "[205]\tvalidation_0-mphe:0.19627\n",
      "[206]\tvalidation_0-mphe:0.19630\n",
      "[207]\tvalidation_0-mphe:0.19628\n",
      "[208]\tvalidation_0-mphe:0.19626\n",
      "[209]\tvalidation_0-mphe:0.19623\n",
      "[210]\tvalidation_0-mphe:0.19623\n",
      "[211]\tvalidation_0-mphe:0.19624\n",
      "[212]\tvalidation_0-mphe:0.19623\n",
      "[213]\tvalidation_0-mphe:0.19622\n",
      "[214]\tvalidation_0-mphe:0.19623\n",
      "[215]\tvalidation_0-mphe:0.19622\n",
      "[216]\tvalidation_0-mphe:0.19621\n",
      "[217]\tvalidation_0-mphe:0.19621\n",
      "[218]\tvalidation_0-mphe:0.19621\n",
      "[219]\tvalidation_0-mphe:0.19622\n",
      "[220]\tvalidation_0-mphe:0.19623\n",
      "[221]\tvalidation_0-mphe:0.19622\n",
      "[222]\tvalidation_0-mphe:0.19620\n",
      "[223]\tvalidation_0-mphe:0.19622\n",
      "[224]\tvalidation_0-mphe:0.19622\n",
      "[225]\tvalidation_0-mphe:0.19623\n",
      "[226]\tvalidation_0-mphe:0.19621\n",
      "[227]\tvalidation_0-mphe:0.19622\n",
      "[228]\tvalidation_0-mphe:0.19624\n",
      "[229]\tvalidation_0-mphe:0.19624\n",
      "[230]\tvalidation_0-mphe:0.19623\n",
      "[231]\tvalidation_0-mphe:0.19626\n",
      "[232]\tvalidation_0-mphe:0.19629\n",
      "[233]\tvalidation_0-mphe:0.19629\n",
      "[234]\tvalidation_0-mphe:0.19628\n",
      "[235]\tvalidation_0-mphe:0.19633\n",
      "[236]\tvalidation_0-mphe:0.19632\n",
      "[237]\tvalidation_0-mphe:0.19636\n",
      "[238]\tvalidation_0-mphe:0.19636\n",
      "[239]\tvalidation_0-mphe:0.19635\n",
      "[240]\tvalidation_0-mphe:0.19634\n",
      "[241]\tvalidation_0-mphe:0.19634\n",
      "[242]\tvalidation_0-mphe:0.19634\n",
      "[243]\tvalidation_0-mphe:0.19638\n",
      "[244]\tvalidation_0-mphe:0.19637\n",
      "[245]\tvalidation_0-mphe:0.19637\n",
      "[246]\tvalidation_0-mphe:0.19637\n",
      "[247]\tvalidation_0-mphe:0.19641\n",
      "[248]\tvalidation_0-mphe:0.19642\n",
      "[249]\tvalidation_0-mphe:0.19641\n",
      "[250]\tvalidation_0-mphe:0.19641\n",
      "[251]\tvalidation_0-mphe:0.19641\n"
     ]
    },
    {
     "data": {
      "text/plain": "XGBRegressor(base_score=None, booster=None, callbacks=None,\n             colsample_bylevel=None, colsample_bynode=None,\n             colsample_bytree=None, device='cuda', early_stopping_rounds=30,\n             enable_categorical=False, eta=0.01, eval_metric=None,\n             feature_types=None, gamma=None, grow_policy=None,\n             importance_type=None, interaction_constraints=None,\n             learning_rate=None, max_bin=512, max_cat_threshold=None,\n             max_cat_to_onehot=None, max_delta_step=None, max_depth=None,\n             max_leaves=None, min_child_weight=None, missing=nan,\n             monotone_constraints=None, multi_strategy=None, n_estimators=300,\n             n_jobs=None, num_parallel_tree=None, ...)",
      "text/html": "<style>#sk-container-id-1 {color: black;background-color: white;}#sk-container-id-1 pre{padding: 0;}#sk-container-id-1 div.sk-toggleable {background-color: white;}#sk-container-id-1 label.sk-toggleable__label {cursor: pointer;display: block;width: 100%;margin-bottom: 0;padding: 0.3em;box-sizing: border-box;text-align: center;}#sk-container-id-1 label.sk-toggleable__label-arrow:before {content: \"▸\";float: left;margin-right: 0.25em;color: #696969;}#sk-container-id-1 label.sk-toggleable__label-arrow:hover:before {color: black;}#sk-container-id-1 div.sk-estimator:hover label.sk-toggleable__label-arrow:before {color: black;}#sk-container-id-1 div.sk-toggleable__content {max-height: 0;max-width: 0;overflow: hidden;text-align: left;background-color: #f0f8ff;}#sk-container-id-1 div.sk-toggleable__content pre {margin: 0.2em;color: black;border-radius: 0.25em;background-color: #f0f8ff;}#sk-container-id-1 input.sk-toggleable__control:checked~div.sk-toggleable__content {max-height: 200px;max-width: 100%;overflow: auto;}#sk-container-id-1 input.sk-toggleable__control:checked~label.sk-toggleable__label-arrow:before {content: \"▾\";}#sk-container-id-1 div.sk-estimator input.sk-toggleable__control:checked~label.sk-toggleable__label {background-color: #d4ebff;}#sk-container-id-1 div.sk-label input.sk-toggleable__control:checked~label.sk-toggleable__label {background-color: #d4ebff;}#sk-container-id-1 input.sk-hidden--visually {border: 0;clip: rect(1px 1px 1px 1px);clip: rect(1px, 1px, 1px, 1px);height: 1px;margin: -1px;overflow: hidden;padding: 0;position: absolute;width: 1px;}#sk-container-id-1 div.sk-estimator {font-family: monospace;background-color: #f0f8ff;border: 1px dotted black;border-radius: 0.25em;box-sizing: border-box;margin-bottom: 0.5em;}#sk-container-id-1 div.sk-estimator:hover {background-color: #d4ebff;}#sk-container-id-1 div.sk-parallel-item::after {content: \"\";width: 100%;border-bottom: 1px solid gray;flex-grow: 1;}#sk-container-id-1 div.sk-label:hover label.sk-toggleable__label {background-color: #d4ebff;}#sk-container-id-1 div.sk-serial::before {content: \"\";position: absolute;border-left: 1px solid gray;box-sizing: border-box;top: 0;bottom: 0;left: 50%;z-index: 0;}#sk-container-id-1 div.sk-serial {display: flex;flex-direction: column;align-items: center;background-color: white;padding-right: 0.2em;padding-left: 0.2em;position: relative;}#sk-container-id-1 div.sk-item {position: relative;z-index: 1;}#sk-container-id-1 div.sk-parallel {display: flex;align-items: stretch;justify-content: center;background-color: white;position: relative;}#sk-container-id-1 div.sk-item::before, #sk-container-id-1 div.sk-parallel-item::before {content: \"\";position: absolute;border-left: 1px solid gray;box-sizing: border-box;top: 0;bottom: 0;left: 50%;z-index: -1;}#sk-container-id-1 div.sk-parallel-item {display: flex;flex-direction: column;z-index: 1;position: relative;background-color: white;}#sk-container-id-1 div.sk-parallel-item:first-child::after {align-self: flex-end;width: 50%;}#sk-container-id-1 div.sk-parallel-item:last-child::after {align-self: flex-start;width: 50%;}#sk-container-id-1 div.sk-parallel-item:only-child::after {width: 0;}#sk-container-id-1 div.sk-dashed-wrapped {border: 1px dashed gray;margin: 0 0.4em 0.5em 0.4em;box-sizing: border-box;padding-bottom: 0.4em;background-color: white;}#sk-container-id-1 div.sk-label label {font-family: monospace;font-weight: bold;display: inline-block;line-height: 1.2em;}#sk-container-id-1 div.sk-label-container {text-align: center;}#sk-container-id-1 div.sk-container {/* jupyter's `normalize.less` sets `[hidden] { display: none; }` but bootstrap.min.css set `[hidden] { display: none !important; }` so we also need the `!important` here to be able to override the default hidden behavior on the sphinx rendered scikit-learn.org. See: https://github.com/scikit-learn/scikit-learn/issues/21755 */display: inline-block !important;position: relative;}#sk-container-id-1 div.sk-text-repr-fallback {display: none;}</style><div id=\"sk-container-id-1\" class=\"sk-top-container\"><div class=\"sk-text-repr-fallback\"><pre>XGBRegressor(base_score=None, booster=None, callbacks=None,\n             colsample_bylevel=None, colsample_bynode=None,\n             colsample_bytree=None, device=&#x27;cuda&#x27;, early_stopping_rounds=30,\n             enable_categorical=False, eta=0.01, eval_metric=None,\n             feature_types=None, gamma=None, grow_policy=None,\n             importance_type=None, interaction_constraints=None,\n             learning_rate=None, max_bin=512, max_cat_threshold=None,\n             max_cat_to_onehot=None, max_delta_step=None, max_depth=None,\n             max_leaves=None, min_child_weight=None, missing=nan,\n             monotone_constraints=None, multi_strategy=None, n_estimators=300,\n             n_jobs=None, num_parallel_tree=None, ...)</pre><b>In a Jupyter environment, please rerun this cell to show the HTML representation or trust the notebook. <br />On GitHub, the HTML representation is unable to render, please try loading this page with nbviewer.org.</b></div><div class=\"sk-container\" hidden><div class=\"sk-item\"><div class=\"sk-estimator sk-toggleable\"><input class=\"sk-toggleable__control sk-hidden--visually\" id=\"sk-estimator-id-1\" type=\"checkbox\" checked><label for=\"sk-estimator-id-1\" class=\"sk-toggleable__label sk-toggleable__label-arrow\">XGBRegressor</label><div class=\"sk-toggleable__content\"><pre>XGBRegressor(base_score=None, booster=None, callbacks=None,\n             colsample_bylevel=None, colsample_bynode=None,\n             colsample_bytree=None, device=&#x27;cuda&#x27;, early_stopping_rounds=30,\n             enable_categorical=False, eta=0.01, eval_metric=None,\n             feature_types=None, gamma=None, grow_policy=None,\n             importance_type=None, interaction_constraints=None,\n             learning_rate=None, max_bin=512, max_cat_threshold=None,\n             max_cat_to_onehot=None, max_delta_step=None, max_depth=None,\n             max_leaves=None, min_child_weight=None, missing=nan,\n             monotone_constraints=None, multi_strategy=None, n_estimators=300,\n             n_jobs=None, num_parallel_tree=None, ...)</pre></div></div></div></div></div>"
     },
     "execution_count": 49,
     "metadata": {},
     "output_type": "execute_result"
    }
   ],
   "source": [
    "import xgboost as xgb\n",
    "\n",
    "xgb_model = xgb.XGBRegressor(eta=0.01, device='cuda', objective='reg:pseudohubererror', early_stopping_rounds=30,\n",
    "                             max_bin=512, n_estimators=300)\n",
    "xgb_model.fit(train_x, train_y, eval_set=[(valid_x, valid_y)],)"
   ],
   "metadata": {
    "collapsed": false
   }
  },
  {
   "cell_type": "code",
   "execution_count": 50,
   "outputs": [
    {
     "name": "stderr",
     "output_type": "stream",
     "text": [
      "C:\\Users\\Siwoo\\miniconda3\\envs\\MLenv\\Lib\\site-packages\\xgboost\\core.py:160: UserWarning: [13:42:05] WARNING: C:\\buildkite-agent\\builds\\buildkite-windows-cpu-autoscaling-group-i-0750514818a16474a-1\\xgboost\\xgboost-ci-windows\\src\\common\\error_msg.cc:58: Falling back to prediction using DMatrix due to mismatched devices. This might lead to higher memory usage and slower performance. XGBoost is running on: cuda:0, while the input data is on: cpu.\n",
      "Potential solutions:\n",
      "- Use a data structure that matches the device ordinal in the booster.\n",
      "- Set the device for booster before call to inplace_predict.\n",
      "\n",
      "This warning will only be shown once.\n",
      "\n",
      "  warnings.warn(smsg, UserWarning)\n"
     ]
    },
    {
     "data": {
      "text/plain": "<Figure size 640x480 with 1 Axes>",
      "image/png": "[encoded data removed]"
     },
     "metadata": {},
     "output_type": "display_data"
    },
    {
     "name": "stdout",
     "output_type": "stream",
     "text": [
      "r and p for return prediction: 0.21971982954825134 0.0\n"
     ]
    }
   ],
   "source": [
    "import scipy\n",
    "valid_pred = xgb_model.predict(valid_x)\n",
    "plt.scatter(valid_pred, valid_y)\n",
    "plt.ylabel(\"ground truth\")\n",
    "plt.xlabel(\"prediction\")\n",
    "plt.title(\"xgboost model performance\")\n",
    "plt.show()\n",
    "ret_r, ret_p = scipy.stats.pearsonr(valid_pred, valid_y)\n",
    "print(\"r and p for return prediction:\", ret_r, ret_p)"
   ],
   "metadata": {
    "collapsed": false
   }
  },
  {
   "cell_type": "code",
   "execution_count": 51,
   "outputs": [],
   "source": [
    "  # from ngboost import NGBRegressor\n",
    "\n",
    "# ngb_model = NGBRegressor(learning_rate=0.01, minibatch_frac=0.3, verbose_eval=10)\n",
    "# ngb_model.fit(train_x, train_y, X_val=valid_x, Y_val=valid_y, early_stopping_rounds=30)"
   ],
   "metadata": {
    "collapsed": false
   }
  },
  {
   "cell_type": "code",
   "execution_count": 52,
   "outputs": [],
   "source": [
    "# %matplotlib inline\n",
    "#\n",
    "# valid_pred = ngb_model.predict(valid_x)\n",
    "# plt.scatter(valid_pred, valid_y)\n",
    "# plt.ylabel(\"ground truth\")\n",
    "# plt.xlabel(\"prediction\")\n",
    "# plt.title(\"ngboost model performance\")\n",
    "# plt.show()\n",
    "# ret_r, ret_p = scipy.stats.pearsonr(valid_pred, valid_y)\n",
    "# print(\"r and p for return prediction:\", ret_r, ret_p)"
   ],
   "metadata": {
    "collapsed": false
   }
  },
  {
   "cell_type": "code",
   "execution_count": 53,
   "outputs": [],
   "source": [
    "# %matplotlib tk\n",
    "#\n",
    "# valid_pred_dist = ngb_model.pred_dist(valid_x)\n",
    "# new_valid_pred = []\n",
    "# new_valid_y = []\n",
    "# for i in range(len(valid_y)):\n",
    "#     if valid_pred_dist.loc[i] - 0.3 * valid_pred_dist.scale[i] > 0:\n",
    "#         new_valid_pred.append(valid_pred_dist.loc[i])\n",
    "#         new_valid_y.append(valid_y[i])\n",
    "#\n",
    "# plt.scatter(new_valid_pred, new_valid_y)\n",
    "# plt.ylabel(\"ground truth\")\n",
    "# plt.xlabel(\"prediction\")\n",
    "# plt.title(\"ngboost model performance\")\n",
    "# plt.show()\n",
    "# ret_r, ret_p = scipy.stats.pearsonr(new_valid_pred, new_valid_y)\n",
    "# print(\"r and p for return prediction:\", ret_r, ret_p)"
   ],
   "metadata": {
    "collapsed": false
   }
  },
  {
   "cell_type": "code",
   "execution_count": 53,
   "outputs": [],
   "source": [],
   "metadata": {
    "collapsed": false
   }
  }
 ],
 "metadata": {
  "kernelspec": {
   "display_name": "Python 3",
   "language": "python",
   "name": "python3"
  },
  "language_info": {
   "codemirror_mode": {
    "name": "ipython",
    "version": 2
   },
   "file_extension": ".py",
   "mimetype": "text/x-python",
   "name": "python",
   "nbconvert_exporter": "python",
   "pygments_lexer": "ipython2",
   "version": "2.7.6"
  }
 },
 "nbformat": 4,
 "nbformat_minor": 0
}
