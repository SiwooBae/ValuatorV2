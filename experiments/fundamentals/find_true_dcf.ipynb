{
 "cells": [
  {
   "cell_type": "code",
   "execution_count": 2,
   "metadata": {
    "collapsed": true
   },
   "outputs": [],
   "source": [
    "import sqlite3\n",
    "import datetime\n",
    "import pandas as pd\n",
    "import matplotlib.pyplot as plt\n",
    "import numpy as np\n",
    "\n",
    "% matplotlib inline\n",
    "\n",
    "conn = sqlite3.connect('C:/Users/Siwoo/PycharmProjects/ValuatorV2/database/valuator.db')"
   ]
  },
  {
   "cell_type": "code",
   "execution_count": 3,
   "outputs": [],
   "source": [
    "param = {}  # a dict that stores all the parameter values\n",
    "param[\"date_begin\"] = datetime.datetime(2000, 1, 1)  # earliest of the whole data\n",
    "param[\"val_split_point\"] = datetime.datetime(2020, 1, 1)  # valid date begins with this date\n",
    "param[\"date_end\"] = datetime.datetime(2022, 1, 1)  # latest of the whole data\n",
    "\n",
    "# preprocessing steps for x (financial statements)\n",
    "param[\"TTM\"] = False  # uses trailing twelve months average data instead of raw\n",
    "param[\"adjust_price_w_CPI\"] = False  # allows adjusting prices with CPI data\n",
    "param[\"apply_asset_constraint\"] = False  # allows applying the asset constraint (asset = equity + liability)\n",
    "param[\n",
    "    \"apply_nonnegative_constraint\"] = False  # deletes rows where their supposedly non-negative columns have negative column values\n",
    "param[\"divide_by_total_assets\"] = True  # divide the relevant columns with total assets to diminish multicolinearity\n",
    "param[\"filter_by_volume\"] = 1000\n",
    "\n",
    "param[\"window_length\"] = 120"
   ],
   "metadata": {
    "collapsed": false
   }
  },
  {
   "cell_type": "code",
   "execution_count": 7,
   "outputs": [],
   "source": [
    "df = pd.read_sql(f\"\"\"\n",
    "SELECT * FROM bic\n",
    "WHERE symbol in\n",
    "        (SELECT symbol FROM profiles\n",
    "        WHERE country = \"US\"\n",
    "        AND isFund = 0\n",
    "        AND isEtf = 0\n",
    "        AND currency = \"USD\"\n",
    "        AND (exchangeShortName = \"NASDAQ\" OR exchangeShortName = \"NYSE\"))\n",
    "    AND symbol NOT LIKE '%W'\n",
    "    AND fillingDate BETWEEN date('{param[\"date_begin\"].strftime(\"%Y-%m-%d\")}') AND date('{param[\"date_end\"].strftime(\"%Y-%m-%d\")}')\n",
    "ORDER BY symbol, date ASC\n",
    "\"\"\", con=conn)\n",
    "\n",
    "macro_df = pd.read_sql(\"\"\"\n",
    "SELECT * FROM macro_US\n",
    "\"\"\", con=conn)\n",
    "\n",
    "treasury_df = pd.read_sql(\"\"\"\n",
    "SELECT * FROM treasury\n",
    "\"\"\", con=conn)"
   ],
   "metadata": {
    "collapsed": false
   }
  },
  {
   "cell_type": "code",
   "execution_count": 8,
   "outputs": [],
   "source": [
    "cursor = conn.execute(\"\"\"SELECT * FROM balance\"\"\")\n",
    "balance_columns = [description[0] for description in cursor.description]\n",
    "\n",
    "cursor = conn.execute(\"\"\"SELECT * FROM income\"\"\")\n",
    "income_columns = [description[0] for description in cursor.description]\n",
    "\n",
    "cursor = conn.execute(\"\"\"SELECT * FROM cashflow\"\"\")\n",
    "cashflow_columns = [description[0] for description in cursor.description]"
   ],
   "metadata": {
    "collapsed": false
   }
  },
  {
   "cell_type": "code",
   "execution_count": 9,
   "outputs": [],
   "source": [
    "df['fillingDate'] = pd.to_datetime(df['fillingDate'])\n",
    "df['date'] = pd.to_datetime(df['date'])\n",
    "macro_df['date'] = pd.to_datetime(macro_df['date'])\n",
    "CPI_base = macro_df[macro_df['date'] == param[\"val_split_point\"]]['CPI'].values\n",
    "macro_df['CPI'] = macro_df['CPI'] / CPI_base"
   ],
   "metadata": {
    "collapsed": false
   }
  },
  {
   "cell_type": "code",
   "execution_count": 10,
   "outputs": [],
   "source": [
    "df = df.merge(macro_df, how=\"left\", on=\"date\")\n",
    "df = df.set_index(['symbol', 'date'])\n",
    "df = df.drop(columns=['fillingDate', 'reportedCurrency'])"
   ],
   "metadata": {
    "collapsed": false
   }
  },
  {
   "cell_type": "code",
   "execution_count": 11,
   "outputs": [],
   "source": [
    "balance_ignored_features = ['goodwillAndIntangibleAssets',\n",
    "                            'totalLiabilitiesAndStockholdersEquity',\n",
    "                            'netDebt',\n",
    "                            'cashAndShortTermInvestments']\n",
    "income_ignored_features = ['grossProfitRatio',\n",
    "                           'costAndExpenses',\n",
    "                           'EBITDARatio',\n",
    "                           'operatingIncomeRatio',\n",
    "                           'incomeBeforeTaxRatio',\n",
    "                           'netIncomeRatio',\n",
    "                           'EPSDiluted',\n",
    "                           'weightedAverageShsOut',\n",
    "                           'interestIncome']\n",
    "cashflow_ignored_features = []  # nothing yet\n",
    "macro_ignored_features = ['realGDP', \"consumerSentiment\", \"smoothedUSRecessionProbabilities\"]"
   ],
   "metadata": {
    "collapsed": false
   }
  },
  {
   "cell_type": "code",
   "execution_count": 12,
   "outputs": [
    {
     "name": "stdout",
     "output_type": "stream",
     "text": [
      "Index(['deferredRevenue', 'commonStock', 'cashAndCashEquivalents',\n",
      "       'minorityInterest', 'totalNonCurrentAssets', 'changeInWorkingCapital',\n",
      "       'inventory', 'deferredTaxLiabilitiesNonCurrent', 'freeCashFlow',\n",
      "       'accountsReceivables', 'shortTermDebt', 'intangibleAssets',\n",
      "       'capitalLeaseObligations', 'acquisitionsNet',\n",
      "       'deferrredTaxLiabilitiesNonCurrent', 'goodwill',\n",
      "       'netCashUsedForInvestingActivites', 'preferredStock', 'grossProfit',\n",
      "       'taxAssets', 'capitalExpenditure', 'accountPayables',\n",
      "       'totalCurrentLiabilities', 'cashAtEndOfPeriod',\n",
      "       'totalStockholdersEquity', 'operatingIncome', 'totalDebt',\n",
      "       'netCashProvidedByOperatingActivites', 'netChangeInCash', 'EBITDA',\n",
      "       'revenue', 'salesMaturitiesOfInvestments', 'deferredRevenueNonCurrent',\n",
      "       'totalLiabilities', 'retainedEarnings', 'stockBasedCompensation',\n",
      "       'longTermInvestments', 'shortTermInvestments', 'commonStockRepurchased',\n",
      "       'purchasesOfInvestments', 'totalCurrentAssets', 'dividendsPaid',\n",
      "       'costOfRevenue', 'SellingGeneralAndAdministrativeExpenses',\n",
      "       'taxPayables', 'operatingCashFlow', 'totalNonCurrentLiabilities',\n",
      "       'SellingAndMarketingExpenses', 'deferredIncomeTax', 'incomeTaxExpense',\n",
      "       'cashAtBeginningOfPeriod', 'debtRepayment',\n",
      "       'GeneralAndAdministrativeExpenses',\n",
      "       'investmentsInPropertyPlantAndEquipment',\n",
      "       'netCashUsedProvidedByFinancingActivities', 'totalInvestments',\n",
      "       'operatingExpenses', 'commonStockIssued', 'totalAssets',\n",
      "       'weightedAverageShsOutDil', 'propertyPlantEquipmentNet',\n",
      "       'incomeBeforeTax', 'effectOfForexChangesOnCash',\n",
      "       'ResearchAndDevelopmentExpenses', 'interestExpense', 'netReceivables',\n",
      "       'EPS', 'longTermDebt', 'CPI', 'federalFunds'],\n",
      "      dtype='object')\n"
     ]
    }
   ],
   "source": [
    "df = df.drop(\n",
    "    columns=balance_ignored_features + income_ignored_features + cashflow_ignored_features + macro_ignored_features)\n",
    "other_dropped_columns = []\n",
    "for column in df.columns:\n",
    "    if \"other\" in str(column).lower() or \"1\" in str(column).lower():\n",
    "        other_dropped_columns.append(column)\n",
    "df = df.drop(columns=other_dropped_columns)\n",
    "print(df.columns)"
   ],
   "metadata": {
    "collapsed": false
   }
  },
  {
   "cell_type": "code",
   "execution_count": 13,
   "outputs": [],
   "source": [
    "if param[\"adjust_price_w_CPI\"]:\n",
    "    df['federalFunds'] = df['federalFunds'] * df['CPI']\n",
    "    df = df.divide(df['CPI'], axis=0)\n",
    "df = df.drop(columns='CPI')"
   ],
   "metadata": {
    "collapsed": false
   }
  },
  {
   "cell_type": "code",
   "execution_count": 14,
   "outputs": [],
   "source": [
    "def reorder_dataframe(df, column_order):\n",
    "    \"\"\"\n",
    "    Reorders a DataFrame based on a given list of column names.\n",
    "\n",
    "    :param df: pandas DataFrame\n",
    "    :param column_order: List of column names to order the DataFrame by\n",
    "    :return: Reordered DataFrame\n",
    "    \"\"\"\n",
    "    # Remove duplicates while preserving order\n",
    "    seen = set()\n",
    "    unique_column_order = [col for col in column_order if col not in seen and not seen.add(col)]\n",
    "\n",
    "    # Filter out columns that are not in the DataFrame\n",
    "    valid_columns = [col for col in unique_column_order if col in df.columns]\n",
    "\n",
    "    extra_columns = [col for col in df.columns if col not in valid_columns]\n",
    "\n",
    "    # Reorder the DataFrame\n",
    "    reordered_df = df[valid_columns + extra_columns]\n",
    "\n",
    "    return reordered_df"
   ],
   "metadata": {
    "collapsed": false
   }
  },
  {
   "cell_type": "code",
   "execution_count": 15,
   "outputs": [],
   "source": [
    "df = reorder_dataframe(df, balance_columns + income_columns + cashflow_columns)\n",
    "df.index = df.index.set_levels([df.index.levels[0], pd.to_datetime(df.index.levels[1])])"
   ],
   "metadata": {
    "collapsed": false
   }
  },
  {
   "cell_type": "code",
   "execution_count": 17,
   "outputs": [],
   "source": [
    "close = pd.read_sql(f\"\"\"\n",
    "SELECT date, symbol, close\n",
    "FROM cv\n",
    "WHERE symbol in (SELECT symbol FROM profiles\n",
    "    WHERE country = \"US\"\n",
    "    AND isFund = 0\n",
    "    AND isEtf = 0\n",
    "    AND currency = \"USD\"\n",
    "    AND (exchangeShortName = \"NASDAQ\" OR exchangeShortName = \"NYSE\"))\n",
    "    AND date BETWEEN date('{param[\"date_begin\"].strftime(\"%Y-%m-%d\")}') AND date('{param[\"date_end\"].strftime(\"%Y-%m-%d\")}')\n",
    "\"\"\", con=conn, index_col=[\"symbol\", \"date\"])\n",
    "\n",
    "spy = pd.read_sql(f\"\"\"\n",
    "SELECT date, symbol, close\n",
    "FROM cv\n",
    "WHERE symbol = \"SPY\" AND date BETWEEN date('{param[\"date_begin\"].strftime(\"%Y-%m-%d\")}') AND date('{param[\"date_end\"].strftime(\"%Y-%m-%d\")}')\n",
    "\"\"\", con=conn, index_col=[\"symbol\", \"date\"])"
   ],
   "metadata": {
    "collapsed": false
   }
  },
  {
   "cell_type": "code",
   "execution_count": 18,
   "outputs": [],
   "source": [
    "close = close['close'].unstack(level=0)\n",
    "spy = spy[\"close\"].unstack(level=0)\n",
    "close_prices = pd.merge(close, spy, \"left\", on='date')"
   ],
   "metadata": {
    "collapsed": false
   }
  },
  {
   "cell_type": "code",
   "execution_count": 19,
   "outputs": [],
   "source": [
    "close_prices[close_prices <= 0] = pd.NA\n",
    "close_prices = close_prices.dropna(how='all', axis=1)  # now drop all symbols that have no values at all\n",
    "close_prices = np.log(close_prices)  # apply log to every value\n",
    "close_prices = close_prices.diff()  # calculate difference"
   ],
   "metadata": {
    "collapsed": false
   }
  },
  {
   "cell_type": "code",
   "execution_count": 20,
   "outputs": [],
   "source": [
    "market_return = close_prices['SPY']\n",
    "indexer = pd.api.indexers.FixedForwardWindowIndexer(window_size=param[\"window_length\"])\n",
    "close_cov = close_prices.rolling(window=90).cov(market_return)\n",
    "market_var = market_return.rolling(window=90).var()\n",
    "market_avg_return = market_return.rolling(window=90).mean()\n",
    "close_beta = close_cov.div(market_var, axis=0)"
   ],
   "metadata": {
    "collapsed": false
   }
  },
  {
   "cell_type": "code",
   "execution_count": 21,
   "outputs": [],
   "source": [
    "calc_df = close_beta.merge(treasury_df[['date', 'BC_10YEAR']], \"inner\", on=\"date\")\n",
    "Rf = calc_df[['date', 'BC_10YEAR']].set_index('date')['BC_10YEAR'] / 100\n",
    "Rf = Rf.rolling(window=90).mean()\n",
    "beta_times_diff = close_beta.multiply((market_avg_return * 365 - Rf), axis=0)\n",
    "\n",
    "equity_cost = beta_times_diff.add(Rf, axis=0)\n",
    "equity_cost.index = pd.to_datetime(equity_cost.index)\n",
    "equity_cost = equity_cost.stack()\n",
    "equity_cost.name = 'equity_cost'"
   ],
   "metadata": {
    "collapsed": false
   }
  },
  {
   "cell_type": "code",
   "execution_count": 22,
   "outputs": [],
   "source": [
    "df = df.merge(equity_cost, how='inner', left_index=True, right_on=['symbol', 'date'])"
   ],
   "metadata": {
    "collapsed": false
   }
  },
  {
   "cell_type": "code",
   "execution_count": 96,
   "outputs": [],
   "source": [
    "tax_rate = df['incomeTaxExpense'] / df['incomeBeforeTax']\n",
    "df['debt_cost'] = df['interestExpense'] / (df['totalDebt'] * (1 - tax_rate))\n",
    "df['debt_ratio'] = df['totalDebt'] / (df['totalDebt'] + df['totalStockholdersEquity'])\n",
    "df['equity_ratio'] = df['totalStockholdersEquity'] / (df['totalDebt'] + df['totalStockholdersEquity'])\n",
    "df['equity_cost'] = 0.05\n",
    "df['WACC'] = df['equity_cost'] * df['equity_ratio'] + df['debt_cost'] * df['debt_ratio']\n",
    "df['WACC'] = 0.05"
   ],
   "metadata": {
    "collapsed": false
   }
  },
  {
   "cell_type": "code",
   "execution_count": 97,
   "outputs": [],
   "source": [
    "df_DCF = df[['freeCashFlow', 'WACC']].copy()\n",
    "df_WACC = (df_DCF['WACC'] + 1) ** 0.25\n",
    "df_DCF['WACC_ready'] = df_WACC.groupby(level=1).cumprod()"
   ],
   "metadata": {
    "collapsed": false
   }
  },
  {
   "cell_type": "markdown",
   "source": [],
   "metadata": {
    "collapsed": false
   }
  },
  {
   "cell_type": "code",
   "execution_count": 98,
   "outputs": [],
   "source": [
    "df_DCF['DCF'] = df_DCF['freeCashFlow'] / df_DCF['WACC_ready']\n",
    "df_DCF['DCF_sum'] = df_DCF['DCF'].iloc[::-1].groupby(level=1).cumsum()"
   ],
   "metadata": {
    "collapsed": false
   }
  },
  {
   "cell_type": "code",
   "execution_count": 99,
   "outputs": [],
   "source": [
    "df_DCF['true_DCF'] = df_DCF['DCF_sum'] * df_DCF['WACC_ready']"
   ],
   "metadata": {
    "collapsed": false
   }
  },
  {
   "cell_type": "code",
   "execution_count": 100,
   "outputs": [],
   "source": [
    "df_DCF['true_DCF_price'] = df_DCF['true_DCF'] / df['weightedAverageShsOutDil']"
   ],
   "metadata": {
    "collapsed": false
   }
  },
  {
   "cell_type": "code",
   "execution_count": 101,
   "outputs": [],
   "source": [
    "close.index = pd.to_datetime(close.index)\n",
    "close_stacked = close.stack()\n",
    "close_stacked.name = \"close\"\n",
    "df_DCF.index = df_DCF.index.set_levels([pd.to_datetime(df_DCF.index.levels[0]), df_DCF.index.levels[1]])\n",
    "df_DCF = df_DCF.merge(close_stacked, how='inner', left_index=True, right_index=True)"
   ],
   "metadata": {
    "collapsed": false
   }
  },
  {
   "cell_type": "code",
   "execution_count": 108,
   "outputs": [
    {
     "name": "stdout",
     "output_type": "stream",
     "text": [
      "Randomly selected symbol: VFC\n",
      "Data for the selected symbol:\n"
     ]
    },
    {
     "data": {
      "text/plain": "<Figure size 640x480 with 1 Axes>",
      "image/png": "[encoded data removed]"
     },
     "metadata": {},
     "output_type": "display_data"
    }
   ],
   "source": [
    "import matplotlib.dates as mdates\n",
    "\n",
    "unique_symbols = df[df['weightedAverageShsOutDil'] > 100000000].index.get_level_values('symbol').unique()\n",
    "\n",
    "# Step 2: Randomly select one symbol\n",
    "random_symbol = np.random.choice(unique_symbols)\n",
    "# Step 3: Filter the DataFrame for the randomly selected symbol\n",
    "selected_df = df_DCF.xs(random_symbol, level='symbol')\n",
    "\n",
    "# Output the randomly selected symbol and its corresponding data\n",
    "print(\"Randomly selected symbol:\", random_symbol)\n",
    "print(\"Data for the selected symbol:\")\n",
    "fig, ax = plt.subplots()\n",
    "ax.plot(selected_df.index, selected_df['true_DCF_price'])\n",
    "ax.plot(selected_df.index, selected_df['close'])\n",
    "# Formatting the date display on the x-axis\n",
    "ax.xaxis.set_major_locator(mdates.AutoDateLocator())\n",
    "ax.xaxis.set_major_formatter(mdates.DateFormatter('%Y-%m-%d'))\n",
    "\n",
    "# Adding labels and title\n",
    "ax.set_xlabel('Date')\n",
    "ax.set_ylabel('Price')\n",
    "ax.legend(['true DCF', 'close'])\n",
    "ax.set_title(f'Price Plot for {random_symbol}')\n",
    "\n",
    "# Rotate date labels for better visibility\n",
    "plt.xticks(rotation=45)\n",
    "plt.tight_layout()  # Adjust layout to make room for the rotated date labels\n",
    "\n",
    "# Display the plot\n",
    "plt.show()"
   ],
   "metadata": {
    "collapsed": false
   }
  },
  {
   "cell_type": "code",
   "execution_count": 104,
   "outputs": [],
   "source": [],
   "metadata": {
    "collapsed": false
   }
  },
  {
   "cell_type": "code",
   "execution_count": 102,
   "outputs": [],
   "source": [],
   "metadata": {
    "collapsed": false
   }
  }
 ],
 "metadata": {
  "kernelspec": {
   "display_name": "Python 3",
   "language": "python",
   "name": "python3"
  },
  "language_info": {
   "codemirror_mode": {
    "name": "ipython",
    "version": 2
   },
   "file_extension": ".py",
   "mimetype": "text/x-python",
   "name": "python",
   "nbconvert_exporter": "python",
   "pygments_lexer": "ipython2",
   "version": "2.7.6"
  }
 },
 "nbformat": 4,
 "nbformat_minor": 0
}
